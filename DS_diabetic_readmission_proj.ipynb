{
 "cells": [
  {
   "cell_type": "code",
   "execution_count": 1,
   "id": "99568834",
   "metadata": {
    "slideshow": {
     "slide_type": "slide"
    }
   },
   "outputs": [],
   "source": [
    "#data manipulation\n",
    "import pandas as pd\n",
    "import numpy as np\n",
    "import sklearn\n",
    "\n",
    "#plotting\n",
    "import matplotlib.pyplot as plt\n",
    "import seaborn as sns\n",
    "\n",
    "#saving\n",
    "import pickle"
   ]
  },
  {
   "cell_type": "code",
   "execution_count": 2,
   "id": "a013147d",
   "metadata": {},
   "outputs": [],
   "source": [
    "df = pd.read_csv(\"/nfs/2week/38454/diabetic_data.csv\")"
   ]
  },
  {
   "cell_type": "code",
   "execution_count": 3,
   "id": "b9753ef0",
   "metadata": {},
   "outputs": [
    {
     "data": {
      "text/html": [
       "<div>\n",
       "<style scoped>\n",
       "    .dataframe tbody tr th:only-of-type {\n",
       "        vertical-align: middle;\n",
       "    }\n",
       "\n",
       "    .dataframe tbody tr th {\n",
       "        vertical-align: top;\n",
       "    }\n",
       "\n",
       "    .dataframe thead th {\n",
       "        text-align: right;\n",
       "    }\n",
       "</style>\n",
       "<table border=\"1\" class=\"dataframe\">\n",
       "  <thead>\n",
       "    <tr style=\"text-align: right;\">\n",
       "      <th></th>\n",
       "      <th>encounter_id</th>\n",
       "      <th>patient_nbr</th>\n",
       "      <th>race</th>\n",
       "      <th>gender</th>\n",
       "      <th>age</th>\n",
       "      <th>weight</th>\n",
       "      <th>admission_type_id</th>\n",
       "      <th>discharge_disposition_id</th>\n",
       "      <th>admission_source_id</th>\n",
       "      <th>time_in_hospital</th>\n",
       "      <th>...</th>\n",
       "      <th>citoglipton</th>\n",
       "      <th>insulin</th>\n",
       "      <th>glyburide-metformin</th>\n",
       "      <th>glipizide-metformin</th>\n",
       "      <th>glimepiride-pioglitazone</th>\n",
       "      <th>metformin-rosiglitazone</th>\n",
       "      <th>metformin-pioglitazone</th>\n",
       "      <th>change</th>\n",
       "      <th>diabetesMed</th>\n",
       "      <th>readmitted</th>\n",
       "    </tr>\n",
       "  </thead>\n",
       "  <tbody>\n",
       "    <tr>\n",
       "      <th>0</th>\n",
       "      <td>2278392</td>\n",
       "      <td>8222157</td>\n",
       "      <td>Caucasian</td>\n",
       "      <td>Female</td>\n",
       "      <td>[0-10)</td>\n",
       "      <td>?</td>\n",
       "      <td>6</td>\n",
       "      <td>25</td>\n",
       "      <td>1</td>\n",
       "      <td>1</td>\n",
       "      <td>...</td>\n",
       "      <td>No</td>\n",
       "      <td>No</td>\n",
       "      <td>No</td>\n",
       "      <td>No</td>\n",
       "      <td>No</td>\n",
       "      <td>No</td>\n",
       "      <td>No</td>\n",
       "      <td>No</td>\n",
       "      <td>No</td>\n",
       "      <td>NO</td>\n",
       "    </tr>\n",
       "    <tr>\n",
       "      <th>1</th>\n",
       "      <td>149190</td>\n",
       "      <td>55629189</td>\n",
       "      <td>Caucasian</td>\n",
       "      <td>Female</td>\n",
       "      <td>[10-20)</td>\n",
       "      <td>?</td>\n",
       "      <td>1</td>\n",
       "      <td>1</td>\n",
       "      <td>7</td>\n",
       "      <td>3</td>\n",
       "      <td>...</td>\n",
       "      <td>No</td>\n",
       "      <td>Up</td>\n",
       "      <td>No</td>\n",
       "      <td>No</td>\n",
       "      <td>No</td>\n",
       "      <td>No</td>\n",
       "      <td>No</td>\n",
       "      <td>Ch</td>\n",
       "      <td>Yes</td>\n",
       "      <td>&gt;30</td>\n",
       "    </tr>\n",
       "    <tr>\n",
       "      <th>2</th>\n",
       "      <td>64410</td>\n",
       "      <td>86047875</td>\n",
       "      <td>AfricanAmerican</td>\n",
       "      <td>Female</td>\n",
       "      <td>[20-30)</td>\n",
       "      <td>?</td>\n",
       "      <td>1</td>\n",
       "      <td>1</td>\n",
       "      <td>7</td>\n",
       "      <td>2</td>\n",
       "      <td>...</td>\n",
       "      <td>No</td>\n",
       "      <td>No</td>\n",
       "      <td>No</td>\n",
       "      <td>No</td>\n",
       "      <td>No</td>\n",
       "      <td>No</td>\n",
       "      <td>No</td>\n",
       "      <td>No</td>\n",
       "      <td>Yes</td>\n",
       "      <td>NO</td>\n",
       "    </tr>\n",
       "    <tr>\n",
       "      <th>3</th>\n",
       "      <td>500364</td>\n",
       "      <td>82442376</td>\n",
       "      <td>Caucasian</td>\n",
       "      <td>Male</td>\n",
       "      <td>[30-40)</td>\n",
       "      <td>?</td>\n",
       "      <td>1</td>\n",
       "      <td>1</td>\n",
       "      <td>7</td>\n",
       "      <td>2</td>\n",
       "      <td>...</td>\n",
       "      <td>No</td>\n",
       "      <td>Up</td>\n",
       "      <td>No</td>\n",
       "      <td>No</td>\n",
       "      <td>No</td>\n",
       "      <td>No</td>\n",
       "      <td>No</td>\n",
       "      <td>Ch</td>\n",
       "      <td>Yes</td>\n",
       "      <td>NO</td>\n",
       "    </tr>\n",
       "    <tr>\n",
       "      <th>4</th>\n",
       "      <td>16680</td>\n",
       "      <td>42519267</td>\n",
       "      <td>Caucasian</td>\n",
       "      <td>Male</td>\n",
       "      <td>[40-50)</td>\n",
       "      <td>?</td>\n",
       "      <td>1</td>\n",
       "      <td>1</td>\n",
       "      <td>7</td>\n",
       "      <td>1</td>\n",
       "      <td>...</td>\n",
       "      <td>No</td>\n",
       "      <td>Steady</td>\n",
       "      <td>No</td>\n",
       "      <td>No</td>\n",
       "      <td>No</td>\n",
       "      <td>No</td>\n",
       "      <td>No</td>\n",
       "      <td>Ch</td>\n",
       "      <td>Yes</td>\n",
       "      <td>NO</td>\n",
       "    </tr>\n",
       "  </tbody>\n",
       "</table>\n",
       "<p>5 rows × 50 columns</p>\n",
       "</div>"
      ],
      "text/plain": [
       "   encounter_id  patient_nbr             race  gender      age weight  \\\n",
       "0       2278392      8222157        Caucasian  Female   [0-10)      ?   \n",
       "1        149190     55629189        Caucasian  Female  [10-20)      ?   \n",
       "2         64410     86047875  AfricanAmerican  Female  [20-30)      ?   \n",
       "3        500364     82442376        Caucasian    Male  [30-40)      ?   \n",
       "4         16680     42519267        Caucasian    Male  [40-50)      ?   \n",
       "\n",
       "   admission_type_id  discharge_disposition_id  admission_source_id  \\\n",
       "0                  6                        25                    1   \n",
       "1                  1                         1                    7   \n",
       "2                  1                         1                    7   \n",
       "3                  1                         1                    7   \n",
       "4                  1                         1                    7   \n",
       "\n",
       "   time_in_hospital  ... citoglipton insulin  glyburide-metformin  \\\n",
       "0                 1  ...          No      No                   No   \n",
       "1                 3  ...          No      Up                   No   \n",
       "2                 2  ...          No      No                   No   \n",
       "3                 2  ...          No      Up                   No   \n",
       "4                 1  ...          No  Steady                   No   \n",
       "\n",
       "   glipizide-metformin  glimepiride-pioglitazone  metformin-rosiglitazone  \\\n",
       "0                   No                        No                       No   \n",
       "1                   No                        No                       No   \n",
       "2                   No                        No                       No   \n",
       "3                   No                        No                       No   \n",
       "4                   No                        No                       No   \n",
       "\n",
       "   metformin-pioglitazone  change diabetesMed readmitted  \n",
       "0                      No      No          No         NO  \n",
       "1                      No      Ch         Yes        >30  \n",
       "2                      No      No         Yes         NO  \n",
       "3                      No      Ch         Yes         NO  \n",
       "4                      No      Ch         Yes         NO  \n",
       "\n",
       "[5 rows x 50 columns]"
      ]
     },
     "execution_count": 3,
     "metadata": {},
     "output_type": "execute_result"
    }
   ],
   "source": [
    "df.head()"
   ]
  },
  {
   "cell_type": "markdown",
   "id": "f01766a0",
   "metadata": {},
   "source": [
    "Ok so now we have our data loaded into our pandas dataframe. <br />\n",
    "We are going to start off with some general exploratory data analysis just because it's fun. <br />\n",
    "This project is a pretty standard cut-and-dry logistic regression/random forrest binary classification task so EDA isn't like /a bad idea/ but I don't think it's strictly necessary here."
   ]
  },
  {
   "cell_type": "code",
   "execution_count": 5,
   "id": "ee5d5d79",
   "metadata": {},
   "outputs": [
    {
     "name": "stdout",
     "output_type": "stream",
     "text": [
      "(101766, 50)\n",
      "<class 'pandas.core.frame.DataFrame'>\n",
      "RangeIndex: 101766 entries, 0 to 101765\n",
      "Data columns (total 50 columns):\n",
      " #   Column                    Non-Null Count   Dtype \n",
      "---  ------                    --------------   ----- \n",
      " 0   encounter_id              101766 non-null  int64 \n",
      " 1   patient_nbr               101766 non-null  int64 \n",
      " 2   race                      101766 non-null  object\n",
      " 3   gender                    101766 non-null  object\n",
      " 4   age                       101766 non-null  object\n",
      " 5   weight                    101766 non-null  object\n",
      " 6   admission_type_id         101766 non-null  int64 \n",
      " 7   discharge_disposition_id  101766 non-null  int64 \n",
      " 8   admission_source_id       101766 non-null  int64 \n",
      " 9   time_in_hospital          101766 non-null  int64 \n",
      " 10  payer_code                101766 non-null  object\n",
      " 11  medical_specialty         101766 non-null  object\n",
      " 12  num_lab_procedures        101766 non-null  int64 \n",
      " 13  num_procedures            101766 non-null  int64 \n",
      " 14  num_medications           101766 non-null  int64 \n",
      " 15  number_outpatient         101766 non-null  int64 \n",
      " 16  number_emergency          101766 non-null  int64 \n",
      " 17  number_inpatient          101766 non-null  int64 \n",
      " 18  diag_1                    101766 non-null  object\n",
      " 19  diag_2                    101766 non-null  object\n",
      " 20  diag_3                    101766 non-null  object\n",
      " 21  number_diagnoses          101766 non-null  int64 \n",
      " 22  max_glu_serum             101766 non-null  object\n",
      " 23  A1Cresult                 101766 non-null  object\n",
      " 24  metformin                 101766 non-null  object\n",
      " 25  repaglinide               101766 non-null  object\n",
      " 26  nateglinide               101766 non-null  object\n",
      " 27  chlorpropamide            101766 non-null  object\n",
      " 28  glimepiride               101766 non-null  object\n",
      " 29  acetohexamide             101766 non-null  object\n",
      " 30  glipizide                 101766 non-null  object\n",
      " 31  glyburide                 101766 non-null  object\n",
      " 32  tolbutamide               101766 non-null  object\n",
      " 33  pioglitazone              101766 non-null  object\n",
      " 34  rosiglitazone             101766 non-null  object\n",
      " 35  acarbose                  101766 non-null  object\n",
      " 36  miglitol                  101766 non-null  object\n",
      " 37  troglitazone              101766 non-null  object\n",
      " 38  tolazamide                101766 non-null  object\n",
      " 39  examide                   101766 non-null  object\n",
      " 40  citoglipton               101766 non-null  object\n",
      " 41  insulin                   101766 non-null  object\n",
      " 42  glyburide-metformin       101766 non-null  object\n",
      " 43  glipizide-metformin       101766 non-null  object\n",
      " 44  glimepiride-pioglitazone  101766 non-null  object\n",
      " 45  metformin-rosiglitazone   101766 non-null  object\n",
      " 46  metformin-pioglitazone    101766 non-null  object\n",
      " 47  change                    101766 non-null  object\n",
      " 48  diabetesMed               101766 non-null  object\n",
      " 49  readmitted                101766 non-null  object\n",
      "dtypes: int64(13), object(37)\n",
      "memory usage: 38.8+ MB\n"
     ]
    }
   ],
   "source": [
    "print(df.shape)\n",
    "df.info()"
   ]
  },
  {
   "cell_type": "markdown",
   "id": "20a469b4",
   "metadata": {},
   "source": [
    "So this dataset contains 101766 rows, each with 50 columns, where column 49 (readmitted) is our target value. Interestingly, while there are many corrupted or incomplete data values in this set (as well see later) none of the entries are explicitly null. <br />\n",
    "This isn't a huge issue it just means we can't use certain pandas null-checking functions"
   ]
  },
  {
   "cell_type": "code",
   "execution_count": 7,
   "id": "90338b24",
   "metadata": {},
   "outputs": [
    {
     "data": {
      "text/html": [
       "<div>\n",
       "<style scoped>\n",
       "    .dataframe tbody tr th:only-of-type {\n",
       "        vertical-align: middle;\n",
       "    }\n",
       "\n",
       "    .dataframe tbody tr th {\n",
       "        vertical-align: top;\n",
       "    }\n",
       "\n",
       "    .dataframe thead th {\n",
       "        text-align: right;\n",
       "    }\n",
       "</style>\n",
       "<table border=\"1\" class=\"dataframe\">\n",
       "  <thead>\n",
       "    <tr style=\"text-align: right;\">\n",
       "      <th></th>\n",
       "      <th>encounter_id</th>\n",
       "      <th>patient_nbr</th>\n",
       "      <th>admission_type_id</th>\n",
       "      <th>discharge_disposition_id</th>\n",
       "      <th>admission_source_id</th>\n",
       "      <th>time_in_hospital</th>\n",
       "      <th>num_lab_procedures</th>\n",
       "      <th>num_procedures</th>\n",
       "      <th>num_medications</th>\n",
       "      <th>number_outpatient</th>\n",
       "      <th>number_emergency</th>\n",
       "      <th>number_inpatient</th>\n",
       "      <th>number_diagnoses</th>\n",
       "    </tr>\n",
       "  </thead>\n",
       "  <tbody>\n",
       "    <tr>\n",
       "      <th>count</th>\n",
       "      <td>1.017660e+05</td>\n",
       "      <td>1.017660e+05</td>\n",
       "      <td>101766.000000</td>\n",
       "      <td>101766.000000</td>\n",
       "      <td>101766.000000</td>\n",
       "      <td>101766.000000</td>\n",
       "      <td>101766.000000</td>\n",
       "      <td>101766.000000</td>\n",
       "      <td>101766.000000</td>\n",
       "      <td>101766.000000</td>\n",
       "      <td>101766.000000</td>\n",
       "      <td>101766.000000</td>\n",
       "      <td>101766.000000</td>\n",
       "    </tr>\n",
       "    <tr>\n",
       "      <th>mean</th>\n",
       "      <td>1.652016e+08</td>\n",
       "      <td>5.433040e+07</td>\n",
       "      <td>2.024006</td>\n",
       "      <td>3.715642</td>\n",
       "      <td>5.754437</td>\n",
       "      <td>4.395987</td>\n",
       "      <td>43.095641</td>\n",
       "      <td>1.339730</td>\n",
       "      <td>16.021844</td>\n",
       "      <td>0.369357</td>\n",
       "      <td>0.197836</td>\n",
       "      <td>0.635566</td>\n",
       "      <td>7.422607</td>\n",
       "    </tr>\n",
       "    <tr>\n",
       "      <th>std</th>\n",
       "      <td>1.026403e+08</td>\n",
       "      <td>3.869636e+07</td>\n",
       "      <td>1.445403</td>\n",
       "      <td>5.280166</td>\n",
       "      <td>4.064081</td>\n",
       "      <td>2.985108</td>\n",
       "      <td>19.674362</td>\n",
       "      <td>1.705807</td>\n",
       "      <td>8.127566</td>\n",
       "      <td>1.267265</td>\n",
       "      <td>0.930472</td>\n",
       "      <td>1.262863</td>\n",
       "      <td>1.933600</td>\n",
       "    </tr>\n",
       "    <tr>\n",
       "      <th>min</th>\n",
       "      <td>1.252200e+04</td>\n",
       "      <td>1.350000e+02</td>\n",
       "      <td>1.000000</td>\n",
       "      <td>1.000000</td>\n",
       "      <td>1.000000</td>\n",
       "      <td>1.000000</td>\n",
       "      <td>1.000000</td>\n",
       "      <td>0.000000</td>\n",
       "      <td>1.000000</td>\n",
       "      <td>0.000000</td>\n",
       "      <td>0.000000</td>\n",
       "      <td>0.000000</td>\n",
       "      <td>1.000000</td>\n",
       "    </tr>\n",
       "    <tr>\n",
       "      <th>25%</th>\n",
       "      <td>8.496119e+07</td>\n",
       "      <td>2.341322e+07</td>\n",
       "      <td>1.000000</td>\n",
       "      <td>1.000000</td>\n",
       "      <td>1.000000</td>\n",
       "      <td>2.000000</td>\n",
       "      <td>31.000000</td>\n",
       "      <td>0.000000</td>\n",
       "      <td>10.000000</td>\n",
       "      <td>0.000000</td>\n",
       "      <td>0.000000</td>\n",
       "      <td>0.000000</td>\n",
       "      <td>6.000000</td>\n",
       "    </tr>\n",
       "    <tr>\n",
       "      <th>50%</th>\n",
       "      <td>1.523890e+08</td>\n",
       "      <td>4.550514e+07</td>\n",
       "      <td>1.000000</td>\n",
       "      <td>1.000000</td>\n",
       "      <td>7.000000</td>\n",
       "      <td>4.000000</td>\n",
       "      <td>44.000000</td>\n",
       "      <td>1.000000</td>\n",
       "      <td>15.000000</td>\n",
       "      <td>0.000000</td>\n",
       "      <td>0.000000</td>\n",
       "      <td>0.000000</td>\n",
       "      <td>8.000000</td>\n",
       "    </tr>\n",
       "    <tr>\n",
       "      <th>75%</th>\n",
       "      <td>2.302709e+08</td>\n",
       "      <td>8.754595e+07</td>\n",
       "      <td>3.000000</td>\n",
       "      <td>4.000000</td>\n",
       "      <td>7.000000</td>\n",
       "      <td>6.000000</td>\n",
       "      <td>57.000000</td>\n",
       "      <td>2.000000</td>\n",
       "      <td>20.000000</td>\n",
       "      <td>0.000000</td>\n",
       "      <td>0.000000</td>\n",
       "      <td>1.000000</td>\n",
       "      <td>9.000000</td>\n",
       "    </tr>\n",
       "    <tr>\n",
       "      <th>max</th>\n",
       "      <td>4.438672e+08</td>\n",
       "      <td>1.895026e+08</td>\n",
       "      <td>8.000000</td>\n",
       "      <td>28.000000</td>\n",
       "      <td>25.000000</td>\n",
       "      <td>14.000000</td>\n",
       "      <td>132.000000</td>\n",
       "      <td>6.000000</td>\n",
       "      <td>81.000000</td>\n",
       "      <td>42.000000</td>\n",
       "      <td>76.000000</td>\n",
       "      <td>21.000000</td>\n",
       "      <td>16.000000</td>\n",
       "    </tr>\n",
       "  </tbody>\n",
       "</table>\n",
       "</div>"
      ],
      "text/plain": [
       "       encounter_id   patient_nbr  admission_type_id  \\\n",
       "count  1.017660e+05  1.017660e+05      101766.000000   \n",
       "mean   1.652016e+08  5.433040e+07           2.024006   \n",
       "std    1.026403e+08  3.869636e+07           1.445403   \n",
       "min    1.252200e+04  1.350000e+02           1.000000   \n",
       "25%    8.496119e+07  2.341322e+07           1.000000   \n",
       "50%    1.523890e+08  4.550514e+07           1.000000   \n",
       "75%    2.302709e+08  8.754595e+07           3.000000   \n",
       "max    4.438672e+08  1.895026e+08           8.000000   \n",
       "\n",
       "       discharge_disposition_id  admission_source_id  time_in_hospital  \\\n",
       "count             101766.000000        101766.000000     101766.000000   \n",
       "mean                   3.715642             5.754437          4.395987   \n",
       "std                    5.280166             4.064081          2.985108   \n",
       "min                    1.000000             1.000000          1.000000   \n",
       "25%                    1.000000             1.000000          2.000000   \n",
       "50%                    1.000000             7.000000          4.000000   \n",
       "75%                    4.000000             7.000000          6.000000   \n",
       "max                   28.000000            25.000000         14.000000   \n",
       "\n",
       "       num_lab_procedures  num_procedures  num_medications  number_outpatient  \\\n",
       "count       101766.000000   101766.000000    101766.000000      101766.000000   \n",
       "mean            43.095641        1.339730        16.021844           0.369357   \n",
       "std             19.674362        1.705807         8.127566           1.267265   \n",
       "min              1.000000        0.000000         1.000000           0.000000   \n",
       "25%             31.000000        0.000000        10.000000           0.000000   \n",
       "50%             44.000000        1.000000        15.000000           0.000000   \n",
       "75%             57.000000        2.000000        20.000000           0.000000   \n",
       "max            132.000000        6.000000        81.000000          42.000000   \n",
       "\n",
       "       number_emergency  number_inpatient  number_diagnoses  \n",
       "count     101766.000000     101766.000000     101766.000000  \n",
       "mean           0.197836          0.635566          7.422607  \n",
       "std            0.930472          1.262863          1.933600  \n",
       "min            0.000000          0.000000          1.000000  \n",
       "25%            0.000000          0.000000          6.000000  \n",
       "50%            0.000000          0.000000          8.000000  \n",
       "75%            0.000000          1.000000          9.000000  \n",
       "max           76.000000         21.000000         16.000000  "
      ]
     },
     "execution_count": 7,
     "metadata": {},
     "output_type": "execute_result"
    }
   ],
   "source": [
    "df.describe()"
   ]
  },
  {
   "cell_type": "markdown",
   "id": "ce237739",
   "metadata": {},
   "source": [
    "This really doesn't tell us a whole lot to be honest. Some of the info is worth noting, like time in hospital or.... thats about it. A lot of the generally numbered attributes such as weight are nominal attributes in this dataset because theyre're entered as a range instead of a single value."
   ]
  },
  {
   "cell_type": "code",
   "execution_count": 9,
   "id": "26bd7949",
   "metadata": {},
   "outputs": [
    {
     "data": {
      "text/plain": [
       "0    ?\n",
       "1    ?\n",
       "2    ?\n",
       "3    ?\n",
       "4    ?\n",
       "Name: weight, dtype: object"
      ]
     },
     "execution_count": 9,
     "metadata": {},
     "output_type": "execute_result"
    }
   ],
   "source": [
    "#Let's take a look specifically at the weight column for just a second\n",
    "df['weight'].head()"
   ]
  },
  {
   "cell_type": "markdown",
   "id": "78295782",
   "metadata": {},
   "source": [
    "As we can see, many of the values in this column, as well as a couple other columns are null (\"?\" specifically). <br />\n",
    "Generally, we would have to do some math to figure out the distribution of the values in the... problematic columns but luckily the dataset authors have provided a link to a paper that's already done this for us. <br />\n",
    "http://www.hindawi.com/journals/bmri/2014/781670/"
   ]
  },
  {
   "cell_type": "markdown",
   "id": "98e149f0",
   "metadata": {},
   "source": [
    "From this paper we can see 97% of the weight values are missing: <br />\n",
    "52% of the payer code values are missing <br />\n",
    "53% of the medical specialty values are missing <br />\n",
    "2% of the race values are missing <br />\n",
    "1% of the diagnosis 3 values are missing <br />\n",
    "\n",
    "While I think we can work around the missing race and diagnosis 3 values, the weight, payer code, and medical speciality columns are simply too incomplete to be worth while and will be dropped. I would have liked to keep weight, but I don't think medical speciality and payer code will have much of a contribution to the chances of readmission"
   ]
  },
  {
   "cell_type": "code",
   "execution_count": 12,
   "id": "3d5ac60c",
   "metadata": {},
   "outputs": [
    {
     "name": "stdout",
     "output_type": "stream",
     "text": [
      "New dataframe Shape (101766, 47)\n"
     ]
    }
   ],
   "source": [
    "df = df.drop(['weight','payer_code','medical_specialty'],axis=1)\n",
    "print(\"New dataframe Shape\",df.shape)"
   ]
  },
  {
   "cell_type": "markdown",
   "id": "e6a117b0",
   "metadata": {},
   "source": [
    "We're also going to fix the target values. <br />\n",
    "Right now the readmitted column contains 3 categories: No, >30, and <30 <br />\n",
    "In this project we only care about if the patient was admitted within 30 days of previous admission. So, we're going to replace the values in the target column to binary classifiers - 1 for readmitted with 30 days and 0 for not readmitted within 30 days."
   ]
  },
  {
   "cell_type": "code",
   "execution_count": 13,
   "id": "1c154c51",
   "metadata": {},
   "outputs": [
    {
     "name": "stdout",
     "output_type": "stream",
     "text": [
      "Our new dataframe\n"
     ]
    },
    {
     "data": {
      "text/html": [
       "<div>\n",
       "<style scoped>\n",
       "    .dataframe tbody tr th:only-of-type {\n",
       "        vertical-align: middle;\n",
       "    }\n",
       "\n",
       "    .dataframe tbody tr th {\n",
       "        vertical-align: top;\n",
       "    }\n",
       "\n",
       "    .dataframe thead th {\n",
       "        text-align: right;\n",
       "    }\n",
       "</style>\n",
       "<table border=\"1\" class=\"dataframe\">\n",
       "  <thead>\n",
       "    <tr style=\"text-align: right;\">\n",
       "      <th></th>\n",
       "      <th>encounter_id</th>\n",
       "      <th>patient_nbr</th>\n",
       "      <th>race</th>\n",
       "      <th>gender</th>\n",
       "      <th>age</th>\n",
       "      <th>admission_type_id</th>\n",
       "      <th>discharge_disposition_id</th>\n",
       "      <th>admission_source_id</th>\n",
       "      <th>time_in_hospital</th>\n",
       "      <th>num_lab_procedures</th>\n",
       "      <th>...</th>\n",
       "      <th>citoglipton</th>\n",
       "      <th>insulin</th>\n",
       "      <th>glyburide-metformin</th>\n",
       "      <th>glipizide-metformin</th>\n",
       "      <th>glimepiride-pioglitazone</th>\n",
       "      <th>metformin-rosiglitazone</th>\n",
       "      <th>metformin-pioglitazone</th>\n",
       "      <th>change</th>\n",
       "      <th>diabetesMed</th>\n",
       "      <th>readmitted</th>\n",
       "    </tr>\n",
       "  </thead>\n",
       "  <tbody>\n",
       "    <tr>\n",
       "      <th>0</th>\n",
       "      <td>2278392</td>\n",
       "      <td>8222157</td>\n",
       "      <td>Caucasian</td>\n",
       "      <td>Female</td>\n",
       "      <td>[0-10)</td>\n",
       "      <td>6</td>\n",
       "      <td>25</td>\n",
       "      <td>1</td>\n",
       "      <td>1</td>\n",
       "      <td>41</td>\n",
       "      <td>...</td>\n",
       "      <td>No</td>\n",
       "      <td>No</td>\n",
       "      <td>No</td>\n",
       "      <td>No</td>\n",
       "      <td>No</td>\n",
       "      <td>No</td>\n",
       "      <td>No</td>\n",
       "      <td>No</td>\n",
       "      <td>No</td>\n",
       "      <td>0</td>\n",
       "    </tr>\n",
       "    <tr>\n",
       "      <th>1</th>\n",
       "      <td>149190</td>\n",
       "      <td>55629189</td>\n",
       "      <td>Caucasian</td>\n",
       "      <td>Female</td>\n",
       "      <td>[10-20)</td>\n",
       "      <td>1</td>\n",
       "      <td>1</td>\n",
       "      <td>7</td>\n",
       "      <td>3</td>\n",
       "      <td>59</td>\n",
       "      <td>...</td>\n",
       "      <td>No</td>\n",
       "      <td>Up</td>\n",
       "      <td>No</td>\n",
       "      <td>No</td>\n",
       "      <td>No</td>\n",
       "      <td>No</td>\n",
       "      <td>No</td>\n",
       "      <td>Ch</td>\n",
       "      <td>Yes</td>\n",
       "      <td>0</td>\n",
       "    </tr>\n",
       "    <tr>\n",
       "      <th>2</th>\n",
       "      <td>64410</td>\n",
       "      <td>86047875</td>\n",
       "      <td>AfricanAmerican</td>\n",
       "      <td>Female</td>\n",
       "      <td>[20-30)</td>\n",
       "      <td>1</td>\n",
       "      <td>1</td>\n",
       "      <td>7</td>\n",
       "      <td>2</td>\n",
       "      <td>11</td>\n",
       "      <td>...</td>\n",
       "      <td>No</td>\n",
       "      <td>No</td>\n",
       "      <td>No</td>\n",
       "      <td>No</td>\n",
       "      <td>No</td>\n",
       "      <td>No</td>\n",
       "      <td>No</td>\n",
       "      <td>No</td>\n",
       "      <td>Yes</td>\n",
       "      <td>0</td>\n",
       "    </tr>\n",
       "    <tr>\n",
       "      <th>3</th>\n",
       "      <td>500364</td>\n",
       "      <td>82442376</td>\n",
       "      <td>Caucasian</td>\n",
       "      <td>Male</td>\n",
       "      <td>[30-40)</td>\n",
       "      <td>1</td>\n",
       "      <td>1</td>\n",
       "      <td>7</td>\n",
       "      <td>2</td>\n",
       "      <td>44</td>\n",
       "      <td>...</td>\n",
       "      <td>No</td>\n",
       "      <td>Up</td>\n",
       "      <td>No</td>\n",
       "      <td>No</td>\n",
       "      <td>No</td>\n",
       "      <td>No</td>\n",
       "      <td>No</td>\n",
       "      <td>Ch</td>\n",
       "      <td>Yes</td>\n",
       "      <td>0</td>\n",
       "    </tr>\n",
       "    <tr>\n",
       "      <th>4</th>\n",
       "      <td>16680</td>\n",
       "      <td>42519267</td>\n",
       "      <td>Caucasian</td>\n",
       "      <td>Male</td>\n",
       "      <td>[40-50)</td>\n",
       "      <td>1</td>\n",
       "      <td>1</td>\n",
       "      <td>7</td>\n",
       "      <td>1</td>\n",
       "      <td>51</td>\n",
       "      <td>...</td>\n",
       "      <td>No</td>\n",
       "      <td>Steady</td>\n",
       "      <td>No</td>\n",
       "      <td>No</td>\n",
       "      <td>No</td>\n",
       "      <td>No</td>\n",
       "      <td>No</td>\n",
       "      <td>Ch</td>\n",
       "      <td>Yes</td>\n",
       "      <td>0</td>\n",
       "    </tr>\n",
       "    <tr>\n",
       "      <th>5</th>\n",
       "      <td>35754</td>\n",
       "      <td>82637451</td>\n",
       "      <td>Caucasian</td>\n",
       "      <td>Male</td>\n",
       "      <td>[50-60)</td>\n",
       "      <td>2</td>\n",
       "      <td>1</td>\n",
       "      <td>2</td>\n",
       "      <td>3</td>\n",
       "      <td>31</td>\n",
       "      <td>...</td>\n",
       "      <td>No</td>\n",
       "      <td>Steady</td>\n",
       "      <td>No</td>\n",
       "      <td>No</td>\n",
       "      <td>No</td>\n",
       "      <td>No</td>\n",
       "      <td>No</td>\n",
       "      <td>No</td>\n",
       "      <td>Yes</td>\n",
       "      <td>0</td>\n",
       "    </tr>\n",
       "    <tr>\n",
       "      <th>6</th>\n",
       "      <td>55842</td>\n",
       "      <td>84259809</td>\n",
       "      <td>Caucasian</td>\n",
       "      <td>Male</td>\n",
       "      <td>[60-70)</td>\n",
       "      <td>3</td>\n",
       "      <td>1</td>\n",
       "      <td>2</td>\n",
       "      <td>4</td>\n",
       "      <td>70</td>\n",
       "      <td>...</td>\n",
       "      <td>No</td>\n",
       "      <td>Steady</td>\n",
       "      <td>No</td>\n",
       "      <td>No</td>\n",
       "      <td>No</td>\n",
       "      <td>No</td>\n",
       "      <td>No</td>\n",
       "      <td>Ch</td>\n",
       "      <td>Yes</td>\n",
       "      <td>0</td>\n",
       "    </tr>\n",
       "    <tr>\n",
       "      <th>7</th>\n",
       "      <td>63768</td>\n",
       "      <td>114882984</td>\n",
       "      <td>Caucasian</td>\n",
       "      <td>Male</td>\n",
       "      <td>[70-80)</td>\n",
       "      <td>1</td>\n",
       "      <td>1</td>\n",
       "      <td>7</td>\n",
       "      <td>5</td>\n",
       "      <td>73</td>\n",
       "      <td>...</td>\n",
       "      <td>No</td>\n",
       "      <td>No</td>\n",
       "      <td>No</td>\n",
       "      <td>No</td>\n",
       "      <td>No</td>\n",
       "      <td>No</td>\n",
       "      <td>No</td>\n",
       "      <td>No</td>\n",
       "      <td>Yes</td>\n",
       "      <td>0</td>\n",
       "    </tr>\n",
       "    <tr>\n",
       "      <th>8</th>\n",
       "      <td>12522</td>\n",
       "      <td>48330783</td>\n",
       "      <td>Caucasian</td>\n",
       "      <td>Female</td>\n",
       "      <td>[80-90)</td>\n",
       "      <td>2</td>\n",
       "      <td>1</td>\n",
       "      <td>4</td>\n",
       "      <td>13</td>\n",
       "      <td>68</td>\n",
       "      <td>...</td>\n",
       "      <td>No</td>\n",
       "      <td>Steady</td>\n",
       "      <td>No</td>\n",
       "      <td>No</td>\n",
       "      <td>No</td>\n",
       "      <td>No</td>\n",
       "      <td>No</td>\n",
       "      <td>Ch</td>\n",
       "      <td>Yes</td>\n",
       "      <td>0</td>\n",
       "    </tr>\n",
       "    <tr>\n",
       "      <th>9</th>\n",
       "      <td>15738</td>\n",
       "      <td>63555939</td>\n",
       "      <td>Caucasian</td>\n",
       "      <td>Female</td>\n",
       "      <td>[90-100)</td>\n",
       "      <td>3</td>\n",
       "      <td>3</td>\n",
       "      <td>4</td>\n",
       "      <td>12</td>\n",
       "      <td>33</td>\n",
       "      <td>...</td>\n",
       "      <td>No</td>\n",
       "      <td>Steady</td>\n",
       "      <td>No</td>\n",
       "      <td>No</td>\n",
       "      <td>No</td>\n",
       "      <td>No</td>\n",
       "      <td>No</td>\n",
       "      <td>Ch</td>\n",
       "      <td>Yes</td>\n",
       "      <td>0</td>\n",
       "    </tr>\n",
       "  </tbody>\n",
       "</table>\n",
       "<p>10 rows × 47 columns</p>\n",
       "</div>"
      ],
      "text/plain": [
       "   encounter_id  patient_nbr             race  gender       age  \\\n",
       "0       2278392      8222157        Caucasian  Female    [0-10)   \n",
       "1        149190     55629189        Caucasian  Female   [10-20)   \n",
       "2         64410     86047875  AfricanAmerican  Female   [20-30)   \n",
       "3        500364     82442376        Caucasian    Male   [30-40)   \n",
       "4         16680     42519267        Caucasian    Male   [40-50)   \n",
       "5         35754     82637451        Caucasian    Male   [50-60)   \n",
       "6         55842     84259809        Caucasian    Male   [60-70)   \n",
       "7         63768    114882984        Caucasian    Male   [70-80)   \n",
       "8         12522     48330783        Caucasian  Female   [80-90)   \n",
       "9         15738     63555939        Caucasian  Female  [90-100)   \n",
       "\n",
       "   admission_type_id  discharge_disposition_id  admission_source_id  \\\n",
       "0                  6                        25                    1   \n",
       "1                  1                         1                    7   \n",
       "2                  1                         1                    7   \n",
       "3                  1                         1                    7   \n",
       "4                  1                         1                    7   \n",
       "5                  2                         1                    2   \n",
       "6                  3                         1                    2   \n",
       "7                  1                         1                    7   \n",
       "8                  2                         1                    4   \n",
       "9                  3                         3                    4   \n",
       "\n",
       "   time_in_hospital  num_lab_procedures  ...  citoglipton  insulin  \\\n",
       "0                 1                  41  ...           No       No   \n",
       "1                 3                  59  ...           No       Up   \n",
       "2                 2                  11  ...           No       No   \n",
       "3                 2                  44  ...           No       Up   \n",
       "4                 1                  51  ...           No   Steady   \n",
       "5                 3                  31  ...           No   Steady   \n",
       "6                 4                  70  ...           No   Steady   \n",
       "7                 5                  73  ...           No       No   \n",
       "8                13                  68  ...           No   Steady   \n",
       "9                12                  33  ...           No   Steady   \n",
       "\n",
       "   glyburide-metformin  glipizide-metformin  glimepiride-pioglitazone  \\\n",
       "0                   No                   No                        No   \n",
       "1                   No                   No                        No   \n",
       "2                   No                   No                        No   \n",
       "3                   No                   No                        No   \n",
       "4                   No                   No                        No   \n",
       "5                   No                   No                        No   \n",
       "6                   No                   No                        No   \n",
       "7                   No                   No                        No   \n",
       "8                   No                   No                        No   \n",
       "9                   No                   No                        No   \n",
       "\n",
       "  metformin-rosiglitazone metformin-pioglitazone change  diabetesMed  \\\n",
       "0                      No                     No     No           No   \n",
       "1                      No                     No     Ch          Yes   \n",
       "2                      No                     No     No          Yes   \n",
       "3                      No                     No     Ch          Yes   \n",
       "4                      No                     No     Ch          Yes   \n",
       "5                      No                     No     No          Yes   \n",
       "6                      No                     No     Ch          Yes   \n",
       "7                      No                     No     No          Yes   \n",
       "8                      No                     No     Ch          Yes   \n",
       "9                      No                     No     Ch          Yes   \n",
       "\n",
       "  readmitted  \n",
       "0          0  \n",
       "1          0  \n",
       "2          0  \n",
       "3          0  \n",
       "4          0  \n",
       "5          0  \n",
       "6          0  \n",
       "7          0  \n",
       "8          0  \n",
       "9          0  \n",
       "\n",
       "[10 rows x 47 columns]"
      ]
     },
     "execution_count": 13,
     "metadata": {},
     "output_type": "execute_result"
    }
   ],
   "source": [
    "df['readmitted'] = df['readmitted'].replace(\"<30\",1)\n",
    "df['readmitted'] = df['readmitted'].replace([\">30\",\"NO\"],0)\n",
    "\n",
    "print(\"Our new dataframe\")\n",
    "df.head(10)"
   ]
  },
  {
   "cell_type": "markdown",
   "id": "f701e216",
   "metadata": {},
   "source": [
    "Let's look at the distribution of our target variable to make sure out dataset is balanced"
   ]
  },
  {
   "cell_type": "code",
   "execution_count": 14,
   "id": "5759d946",
   "metadata": {},
   "outputs": [
    {
     "name": "stdout",
     "output_type": "stream",
     "text": [
      "0    90409\n",
      "1    11357\n",
      "Name: readmitted, dtype: int64\n"
     ]
    },
    {
     "data": {
      "text/plain": [
       "array([[<AxesSubplot:title={'center':'readmitted'}>]], dtype=object)"
      ]
     },
     "execution_count": 14,
     "metadata": {},
     "output_type": "execute_result"
    },
    {
     "data": {
      "image/png": "[encoded data removed]",
      "text/plain": [
       "<Figure size 432x288 with 1 Axes>"
      ]
     },
     "metadata": {
      "needs_background": "light"
     },
     "output_type": "display_data"
    }
   ],
   "source": [
    "print(df['readmitted'].value_counts())\n",
    "\n",
    "df.hist('readmitted')"
   ]
  },
  {
   "cell_type": "markdown",
   "id": "209d59fb",
   "metadata": {},
   "source": [
    "Roughly 10% of our target variables are 1 (readmitted within 30 days) <br />\n",
    "That's an ehhhhh distribution and may require some dataset balancing techniques. For now we'll attempt just some simple random over-sampling."
   ]
  },
  {
   "cell_type": "markdown",
   "id": "a80e1983",
   "metadata": {},
   "source": [
    "We're going to use seaborns paurplot to display all variables against each other in a scatter plot. This can help us spot interesting relationships without having to go through ever value manually. <br />\n",
    "Interestingly, after running this block the file becomes too large to save hehe. We'll save it to a png on the first pass and just load that png on all subsequent passes."
   ]
  },
  {
   "cell_type": "code",
   "execution_count": 17,
   "id": "ce0ef479",
   "metadata": {},
   "outputs": [
    {
     "data": {
      "image/png": "[encoded data removed]",
      "text/plain": [
       "<Figure size 432x288 with 1 Axes>"
      ]
     },
     "metadata": {
      "needs_background": "light"
     },
     "output_type": "display_data"
    }
   ],
   "source": [
    "#pairplot = sns.pairplot(df)\n",
    "#plt.savefig(\"pairplot.png\")\n",
    "\n",
    "#I commented out the code to actually create and save the pairplot because\n",
    "#it takes a long time to run, I've already done it once and just saved\n",
    "#the image so I can display it that way :)\n",
    "import matplotlib.image as mpimg\n",
    "\n",
    "img = mpimg.imread('pairplot.png')\n",
    "imgplot = plt.imshow(img)\n",
    "plt.show()"
   ]
  },
  {
   "cell_type": "code",
   "execution_count": 72,
   "id": "290fd65e",
   "metadata": {},
   "outputs": [
    {
     "data": {
      "image/png": "[encoded data removed]",
      "text/plain": [
       "<Figure size 432x288 with 2 Axes>"
      ]
     },
     "metadata": {
      "needs_background": "light"
     },
     "output_type": "display_data"
    }
   ],
   "source": [
    "corrmat = df.corr()\n",
    "hm = sns.heatmap(corrmat, \n",
    "                 cbar=True, \n",
    "                 annot=True, \n",
    "                 square=True, \n",
    "                 fmt='.2f', \n",
    "                 annot_kws={'size': 5}, \n",
    "                 cmap=\"Spectral_r\")\n",
    "plt.savefig(\"heatmap.png\")"
   ]
  },
  {
   "cell_type": "markdown",
   "id": "225de21b",
   "metadata": {},
   "source": [
    "Above we can see how correlated certain pairs of variables are.\n",
    "The strongest correlation appears to be between number of lab procedures and number of medications."
   ]
  },
  {
   "cell_type": "markdown",
   "id": "4c4044fc",
   "metadata": {},
   "source": [
    "Alright, just because I'm essentially certain they aren't useful I'm going to go ahead and drop encounter id and patient number. They'll probably throw off certain models anyways as they're pretty large numbers"
   ]
  },
  {
   "cell_type": "code",
   "execution_count": 17,
   "id": "c084b560",
   "metadata": {},
   "outputs": [],
   "source": [
    "df = df.drop(['encounter_id','patient_nbr'], axis=1)"
   ]
  },
  {
   "cell_type": "markdown",
   "id": "32c0d88e",
   "metadata": {},
   "source": [
    "I'm going to attempt to use sklearn's simple imputer to replace missing values with a constant string. <br />\n",
    "In this case we'll set the constant string to \"missing\", I had thought's about using a k-nearest neighbours imputer which still may work but it was too much work to set up and I don't think it'll matter too much in this instance. <br />\n",
    "First I'll have to do some prep work and replace the \"?\"s with None as setup. <br />\n",
    "Then we'll replace missing data and encode everything to numeric data for our classifier. <br />"
   ]
  },
  {
   "cell_type": "code",
   "execution_count": 18,
   "id": "0d0d7a9a",
   "metadata": {},
   "outputs": [],
   "source": [
    "df = df.replace(\"?\",None)"
   ]
  },
  {
   "cell_type": "code",
   "execution_count": 19,
   "id": "07c31e51",
   "metadata": {},
   "outputs": [
    {
     "name": "stdout",
     "output_type": "stream",
     "text": [
      "Number of categorical features:  33\n"
     ]
    },
    {
     "data": {
      "text/plain": [
       "['race',\n",
       " 'gender',\n",
       " 'age',\n",
       " 'diag_1',\n",
       " 'diag_2',\n",
       " 'diag_3',\n",
       " 'max_glu_serum',\n",
       " 'A1Cresult',\n",
       " 'metformin',\n",
       " 'repaglinide',\n",
       " 'nateglinide',\n",
       " 'chlorpropamide',\n",
       " 'glimepiride',\n",
       " 'acetohexamide',\n",
       " 'glipizide',\n",
       " 'glyburide',\n",
       " 'tolbutamide',\n",
       " 'pioglitazone',\n",
       " 'rosiglitazone',\n",
       " 'acarbose',\n",
       " 'miglitol',\n",
       " 'troglitazone',\n",
       " 'tolazamide',\n",
       " 'examide',\n",
       " 'citoglipton',\n",
       " 'insulin',\n",
       " 'glyburide-metformin',\n",
       " 'glipizide-metformin',\n",
       " 'glimepiride-pioglitazone',\n",
       " 'metformin-rosiglitazone',\n",
       " 'metformin-pioglitazone',\n",
       " 'change',\n",
       " 'diabetesMed']"
      ]
     },
     "execution_count": 19,
     "metadata": {},
     "output_type": "execute_result"
    }
   ],
   "source": [
    "from sklearn.preprocessing import OneHotEncoder\n",
    "from sklearn.compose import make_column_transformer\n",
    "from sklearn.pipeline import Pipeline\n",
    "\n",
    "#Find the categorical features we'll have to encode to numeric features\n",
    "features_to_encode = df.columns[df.dtypes==object].tolist()\n",
    "print(\"Number of categorical features: \",len(features_to_encode))\n",
    "features_to_encode"
   ]
  },
  {
   "cell_type": "code",
   "execution_count": 20,
   "id": "055661c1",
   "metadata": {},
   "outputs": [],
   "source": [
    "from sklearn.impute import SimpleImputer\n",
    "cat_transformer = Pipeline(steps=[('imputer', SimpleImputer(strategy='constant', fill_value='missing')),\n",
    "                                    ('encoder', OneHotEncoder(handle_unknown=\"ignore\"))\n",
    "                                    ])\n",
    "                                 \n",
    "\n",
    "col_trans = make_column_transformer(\n",
    "        (cat_transformer, features_to_encode), remainder = \"passthrough\")\n"
   ]
  },
  {
   "cell_type": "markdown",
   "id": "0ae201f6",
   "metadata": {},
   "source": [
    "We now have our pipeline ready to pass into our model. <br />\n",
    "We just have to prepare the data now."
   ]
  },
  {
   "cell_type": "code",
   "execution_count": 21,
   "id": "8eee3861",
   "metadata": {},
   "outputs": [
    {
     "name": "stdout",
     "output_type": "stream",
     "text": [
      "Target = 0:  90409\n",
      "Target = 1:  11357\n",
      "New Distribution of target values: \n",
      "0    90409\n",
      "1    45204\n",
      "Name: readmitted, dtype: int64\n"
     ]
    },
    {
     "data": {
      "text/html": [
       "<div>\n",
       "<style scoped>\n",
       "    .dataframe tbody tr th:only-of-type {\n",
       "        vertical-align: middle;\n",
       "    }\n",
       "\n",
       "    .dataframe tbody tr th {\n",
       "        vertical-align: top;\n",
       "    }\n",
       "\n",
       "    .dataframe thead th {\n",
       "        text-align: right;\n",
       "    }\n",
       "</style>\n",
       "<table border=\"1\" class=\"dataframe\">\n",
       "  <thead>\n",
       "    <tr style=\"text-align: right;\">\n",
       "      <th></th>\n",
       "      <th>race</th>\n",
       "      <th>gender</th>\n",
       "      <th>age</th>\n",
       "      <th>admission_type_id</th>\n",
       "      <th>discharge_disposition_id</th>\n",
       "      <th>admission_source_id</th>\n",
       "      <th>time_in_hospital</th>\n",
       "      <th>num_lab_procedures</th>\n",
       "      <th>num_procedures</th>\n",
       "      <th>num_medications</th>\n",
       "      <th>...</th>\n",
       "      <th>citoglipton</th>\n",
       "      <th>insulin</th>\n",
       "      <th>glyburide-metformin</th>\n",
       "      <th>glipizide-metformin</th>\n",
       "      <th>glimepiride-pioglitazone</th>\n",
       "      <th>metformin-rosiglitazone</th>\n",
       "      <th>metformin-pioglitazone</th>\n",
       "      <th>change</th>\n",
       "      <th>diabetesMed</th>\n",
       "      <th>readmitted</th>\n",
       "    </tr>\n",
       "  </thead>\n",
       "  <tbody>\n",
       "    <tr>\n",
       "      <th>0</th>\n",
       "      <td>Caucasian</td>\n",
       "      <td>Female</td>\n",
       "      <td>[0-10)</td>\n",
       "      <td>6</td>\n",
       "      <td>25</td>\n",
       "      <td>1</td>\n",
       "      <td>1</td>\n",
       "      <td>41</td>\n",
       "      <td>0</td>\n",
       "      <td>1</td>\n",
       "      <td>...</td>\n",
       "      <td>No</td>\n",
       "      <td>No</td>\n",
       "      <td>No</td>\n",
       "      <td>No</td>\n",
       "      <td>No</td>\n",
       "      <td>No</td>\n",
       "      <td>No</td>\n",
       "      <td>No</td>\n",
       "      <td>No</td>\n",
       "      <td>0</td>\n",
       "    </tr>\n",
       "    <tr>\n",
       "      <th>1</th>\n",
       "      <td>Caucasian</td>\n",
       "      <td>Female</td>\n",
       "      <td>[10-20)</td>\n",
       "      <td>1</td>\n",
       "      <td>1</td>\n",
       "      <td>7</td>\n",
       "      <td>3</td>\n",
       "      <td>59</td>\n",
       "      <td>0</td>\n",
       "      <td>18</td>\n",
       "      <td>...</td>\n",
       "      <td>No</td>\n",
       "      <td>Up</td>\n",
       "      <td>No</td>\n",
       "      <td>No</td>\n",
       "      <td>No</td>\n",
       "      <td>No</td>\n",
       "      <td>No</td>\n",
       "      <td>Ch</td>\n",
       "      <td>Yes</td>\n",
       "      <td>0</td>\n",
       "    </tr>\n",
       "    <tr>\n",
       "      <th>2</th>\n",
       "      <td>AfricanAmerican</td>\n",
       "      <td>Female</td>\n",
       "      <td>[20-30)</td>\n",
       "      <td>1</td>\n",
       "      <td>1</td>\n",
       "      <td>7</td>\n",
       "      <td>2</td>\n",
       "      <td>11</td>\n",
       "      <td>5</td>\n",
       "      <td>13</td>\n",
       "      <td>...</td>\n",
       "      <td>No</td>\n",
       "      <td>No</td>\n",
       "      <td>No</td>\n",
       "      <td>No</td>\n",
       "      <td>No</td>\n",
       "      <td>No</td>\n",
       "      <td>No</td>\n",
       "      <td>No</td>\n",
       "      <td>Yes</td>\n",
       "      <td>0</td>\n",
       "    </tr>\n",
       "    <tr>\n",
       "      <th>3</th>\n",
       "      <td>Caucasian</td>\n",
       "      <td>Male</td>\n",
       "      <td>[30-40)</td>\n",
       "      <td>1</td>\n",
       "      <td>1</td>\n",
       "      <td>7</td>\n",
       "      <td>2</td>\n",
       "      <td>44</td>\n",
       "      <td>1</td>\n",
       "      <td>16</td>\n",
       "      <td>...</td>\n",
       "      <td>No</td>\n",
       "      <td>Up</td>\n",
       "      <td>No</td>\n",
       "      <td>No</td>\n",
       "      <td>No</td>\n",
       "      <td>No</td>\n",
       "      <td>No</td>\n",
       "      <td>Ch</td>\n",
       "      <td>Yes</td>\n",
       "      <td>0</td>\n",
       "    </tr>\n",
       "    <tr>\n",
       "      <th>4</th>\n",
       "      <td>Caucasian</td>\n",
       "      <td>Male</td>\n",
       "      <td>[40-50)</td>\n",
       "      <td>1</td>\n",
       "      <td>1</td>\n",
       "      <td>7</td>\n",
       "      <td>1</td>\n",
       "      <td>51</td>\n",
       "      <td>0</td>\n",
       "      <td>8</td>\n",
       "      <td>...</td>\n",
       "      <td>No</td>\n",
       "      <td>Steady</td>\n",
       "      <td>No</td>\n",
       "      <td>No</td>\n",
       "      <td>No</td>\n",
       "      <td>No</td>\n",
       "      <td>No</td>\n",
       "      <td>Ch</td>\n",
       "      <td>Yes</td>\n",
       "      <td>0</td>\n",
       "    </tr>\n",
       "  </tbody>\n",
       "</table>\n",
       "<p>5 rows × 45 columns</p>\n",
       "</div>"
      ],
      "text/plain": [
       "              race  gender      age  admission_type_id  \\\n",
       "0        Caucasian  Female   [0-10)                  6   \n",
       "1        Caucasian  Female  [10-20)                  1   \n",
       "2  AfricanAmerican  Female  [20-30)                  1   \n",
       "3        Caucasian    Male  [30-40)                  1   \n",
       "4        Caucasian    Male  [40-50)                  1   \n",
       "\n",
       "   discharge_disposition_id  admission_source_id  time_in_hospital  \\\n",
       "0                        25                    1                 1   \n",
       "1                         1                    7                 3   \n",
       "2                         1                    7                 2   \n",
       "3                         1                    7                 2   \n",
       "4                         1                    7                 1   \n",
       "\n",
       "   num_lab_procedures  num_procedures  num_medications  ...  citoglipton  \\\n",
       "0                  41               0                1  ...           No   \n",
       "1                  59               0               18  ...           No   \n",
       "2                  11               5               13  ...           No   \n",
       "3                  44               1               16  ...           No   \n",
       "4                  51               0                8  ...           No   \n",
       "\n",
       "   insulin  glyburide-metformin glipizide-metformin glimepiride-pioglitazone  \\\n",
       "0       No                   No                  No                       No   \n",
       "1       Up                   No                  No                       No   \n",
       "2       No                   No                  No                       No   \n",
       "3       Up                   No                  No                       No   \n",
       "4   Steady                   No                  No                       No   \n",
       "\n",
       "  metformin-rosiglitazone  metformin-pioglitazone change diabetesMed  \\\n",
       "0                      No                      No     No          No   \n",
       "1                      No                      No     Ch         Yes   \n",
       "2                      No                      No     No         Yes   \n",
       "3                      No                      No     Ch         Yes   \n",
       "4                      No                      No     Ch         Yes   \n",
       "\n",
       "  readmitted  \n",
       "0          0  \n",
       "1          0  \n",
       "2          0  \n",
       "3          0  \n",
       "4          0  \n",
       "\n",
       "[5 rows x 45 columns]"
      ]
     },
     "execution_count": 21,
     "metadata": {},
     "output_type": "execute_result"
    }
   ],
   "source": [
    "#Oversample the dataset\n",
    "target_1 = df[df['readmitted'] == 1]\n",
    "target_0 = df[df['readmitted'] == 0]\n",
    "\n",
    "class_0,class_1 = df.readmitted.value_counts()\n",
    "print(\"Target = 0: \",class_0)\n",
    "print(\"Target = 1: \",class_1)\n",
    "\n",
    "#Oversample target data so readmitted=1 makes up a third of the samples\n",
    "df_sample = target_1.sample(class_0//2, replace=True) \n",
    "oversampled_df = pd.concat([target_0,df_sample], axis = 0)\n",
    "\n",
    "print(\"New Distribution of target values: \")\n",
    "print(oversampled_df.readmitted.value_counts())\n",
    "oversampled_df.head()"
   ]
  },
  {
   "cell_type": "code",
   "execution_count": 22,
   "id": "5f76fffa",
   "metadata": {},
   "outputs": [],
   "source": [
    "#Split into train and test set\n",
    "from sklearn.model_selection import train_test_split\n",
    "train, test = train_test_split(oversampled_df, test_size=0.2)\n",
    "\n",
    "#Split into features/inputs (x) and target (y)\n",
    "train_x = train[train.columns[0:-1]]\n",
    "test_x = test[test.columns[0:-1]]\n",
    "\n",
    "train_y = train['readmitted']\n",
    "test_y = test['readmitted']"
   ]
  },
  {
   "cell_type": "code",
   "execution_count": 25,
   "id": "d9064d34",
   "metadata": {},
   "outputs": [
    {
     "data": {
      "text/html": [
       "<div>\n",
       "<style scoped>\n",
       "    .dataframe tbody tr th:only-of-type {\n",
       "        vertical-align: middle;\n",
       "    }\n",
       "\n",
       "    .dataframe tbody tr th {\n",
       "        vertical-align: top;\n",
       "    }\n",
       "\n",
       "    .dataframe thead th {\n",
       "        text-align: right;\n",
       "    }\n",
       "</style>\n",
       "<table border=\"1\" class=\"dataframe\">\n",
       "  <thead>\n",
       "    <tr style=\"text-align: right;\">\n",
       "      <th></th>\n",
       "      <th>race</th>\n",
       "      <th>gender</th>\n",
       "      <th>age</th>\n",
       "      <th>admission_type_id</th>\n",
       "      <th>discharge_disposition_id</th>\n",
       "      <th>admission_source_id</th>\n",
       "      <th>time_in_hospital</th>\n",
       "      <th>num_lab_procedures</th>\n",
       "      <th>num_procedures</th>\n",
       "      <th>num_medications</th>\n",
       "      <th>...</th>\n",
       "      <th>examide</th>\n",
       "      <th>citoglipton</th>\n",
       "      <th>insulin</th>\n",
       "      <th>glyburide-metformin</th>\n",
       "      <th>glipizide-metformin</th>\n",
       "      <th>glimepiride-pioglitazone</th>\n",
       "      <th>metformin-rosiglitazone</th>\n",
       "      <th>metformin-pioglitazone</th>\n",
       "      <th>change</th>\n",
       "      <th>diabetesMed</th>\n",
       "    </tr>\n",
       "  </thead>\n",
       "  <tbody>\n",
       "    <tr>\n",
       "      <th>43504</th>\n",
       "      <td>Caucasian</td>\n",
       "      <td>Female</td>\n",
       "      <td>[50-60)</td>\n",
       "      <td>1</td>\n",
       "      <td>1</td>\n",
       "      <td>7</td>\n",
       "      <td>1</td>\n",
       "      <td>25</td>\n",
       "      <td>0</td>\n",
       "      <td>10</td>\n",
       "      <td>...</td>\n",
       "      <td>No</td>\n",
       "      <td>No</td>\n",
       "      <td>Steady</td>\n",
       "      <td>No</td>\n",
       "      <td>No</td>\n",
       "      <td>No</td>\n",
       "      <td>No</td>\n",
       "      <td>No</td>\n",
       "      <td>Ch</td>\n",
       "      <td>Yes</td>\n",
       "    </tr>\n",
       "    <tr>\n",
       "      <th>31470</th>\n",
       "      <td>Caucasian</td>\n",
       "      <td>Female</td>\n",
       "      <td>[70-80)</td>\n",
       "      <td>6</td>\n",
       "      <td>1</td>\n",
       "      <td>17</td>\n",
       "      <td>5</td>\n",
       "      <td>27</td>\n",
       "      <td>2</td>\n",
       "      <td>11</td>\n",
       "      <td>...</td>\n",
       "      <td>No</td>\n",
       "      <td>No</td>\n",
       "      <td>No</td>\n",
       "      <td>No</td>\n",
       "      <td>No</td>\n",
       "      <td>No</td>\n",
       "      <td>No</td>\n",
       "      <td>No</td>\n",
       "      <td>No</td>\n",
       "      <td>No</td>\n",
       "    </tr>\n",
       "    <tr>\n",
       "      <th>18873</th>\n",
       "      <td>AfricanAmerican</td>\n",
       "      <td>Male</td>\n",
       "      <td>[50-60)</td>\n",
       "      <td>1</td>\n",
       "      <td>6</td>\n",
       "      <td>7</td>\n",
       "      <td>3</td>\n",
       "      <td>32</td>\n",
       "      <td>2</td>\n",
       "      <td>10</td>\n",
       "      <td>...</td>\n",
       "      <td>No</td>\n",
       "      <td>No</td>\n",
       "      <td>No</td>\n",
       "      <td>No</td>\n",
       "      <td>No</td>\n",
       "      <td>No</td>\n",
       "      <td>No</td>\n",
       "      <td>No</td>\n",
       "      <td>No</td>\n",
       "      <td>Yes</td>\n",
       "    </tr>\n",
       "  </tbody>\n",
       "</table>\n",
       "<p>3 rows × 44 columns</p>\n",
       "</div>"
      ],
      "text/plain": [
       "                  race  gender      age  admission_type_id  \\\n",
       "43504        Caucasian  Female  [50-60)                  1   \n",
       "31470        Caucasian  Female  [70-80)                  6   \n",
       "18873  AfricanAmerican    Male  [50-60)                  1   \n",
       "\n",
       "       discharge_disposition_id  admission_source_id  time_in_hospital  \\\n",
       "43504                         1                    7                 1   \n",
       "31470                         1                   17                 5   \n",
       "18873                         6                    7                 3   \n",
       "\n",
       "       num_lab_procedures  num_procedures  num_medications  ...  examide  \\\n",
       "43504                  25               0               10  ...       No   \n",
       "31470                  27               2               11  ...       No   \n",
       "18873                  32               2               10  ...       No   \n",
       "\n",
       "       citoglipton  insulin glyburide-metformin glipizide-metformin  \\\n",
       "43504           No   Steady                  No                  No   \n",
       "31470           No       No                  No                  No   \n",
       "18873           No       No                  No                  No   \n",
       "\n",
       "      glimepiride-pioglitazone  metformin-rosiglitazone  \\\n",
       "43504                       No                       No   \n",
       "31470                       No                       No   \n",
       "18873                       No                       No   \n",
       "\n",
       "      metformin-pioglitazone change diabetesMed  \n",
       "43504                     No     Ch         Yes  \n",
       "31470                     No     No          No  \n",
       "18873                     No     No         Yes  \n",
       "\n",
       "[3 rows x 44 columns]"
      ]
     },
     "execution_count": 25,
     "metadata": {},
     "output_type": "execute_result"
    }
   ],
   "source": [
    "train_x.head(3)"
   ]
  },
  {
   "cell_type": "code",
   "execution_count": 26,
   "id": "959a6cf7",
   "metadata": {},
   "outputs": [
    {
     "data": {
      "text/plain": [
       "43504    0\n",
       "31470    0\n",
       "18873    0\n",
       "70468    0\n",
       "63542    0\n",
       "93265    0\n",
       "12794    0\n",
       "3994     1\n",
       "92406    0\n",
       "12206    1\n",
       "Name: readmitted, dtype: int64"
      ]
     },
     "execution_count": 26,
     "metadata": {},
     "output_type": "execute_result"
    }
   ],
   "source": [
    "train_y.head(10)"
   ]
  },
  {
   "cell_type": "code",
   "execution_count": 24,
   "id": "aaa45391",
   "metadata": {},
   "outputs": [],
   "source": [
    "#Random forest\n",
    "from sklearn.ensemble import RandomForestClassifier\n",
    "from sklearn.pipeline import make_pipeline\n",
    "\n",
    "rf_classifier = RandomForestClassifier(n_estimators=10, random_state=43)\n",
    "rfc = make_pipeline(col_trans, rf_classifier)"
   ]
  },
  {
   "cell_type": "code",
   "execution_count": 28,
   "id": "c0d57a83",
   "metadata": {},
   "outputs": [
    {
     "data": {
      "text/plain": [
       "Pipeline(steps=[('columntransformer',\n",
       "                 ColumnTransformer(remainder='passthrough',\n",
       "                                   transformers=[('pipeline',\n",
       "                                                  Pipeline(steps=[('imputer',\n",
       "                                                                   SimpleImputer(fill_value='missing',\n",
       "                                                                                 strategy='constant')),\n",
       "                                                                  ('encoder',\n",
       "                                                                   OneHotEncoder(handle_unknown='ignore'))]),\n",
       "                                                  ['race', 'gender', 'age',\n",
       "                                                   'diag_1', 'diag_2', 'diag_3',\n",
       "                                                   'max_glu_serum', 'A1Cresult',\n",
       "                                                   'metformin', 'repaglinide',\n",
       "                                                   'nat...\n",
       "                                                   'acetohexamide', 'glipizide',\n",
       "                                                   'glyburide', 'tolbutamide',\n",
       "                                                   'pioglitazone',\n",
       "                                                   'rosiglitazone', 'acarbose',\n",
       "                                                   'miglitol', 'troglitazone',\n",
       "                                                   'tolazamide', 'examide',\n",
       "                                                   'citoglipton', 'insulin',\n",
       "                                                   'glyburide-metformin',\n",
       "                                                   'glipizide-metformin',\n",
       "                                                   'glimepiride-pioglitazone',\n",
       "                                                   'metformin-rosiglitazone', ...])])),\n",
       "                ('randomforestclassifier',\n",
       "                 RandomForestClassifier(n_estimators=10, random_state=43))])"
      ]
     },
     "execution_count": 28,
     "metadata": {},
     "output_type": "execute_result"
    }
   ],
   "source": [
    "rfc.fit(train_x, train_y)"
   ]
  },
  {
   "cell_type": "code",
   "execution_count": 29,
   "id": "8ff57649",
   "metadata": {},
   "outputs": [],
   "source": [
    "#Save model\n",
    "pickle.dump(rfc, open(\"randomforest.sav\",\"wb\"))"
   ]
  },
  {
   "cell_type": "markdown",
   "id": "09894021",
   "metadata": {},
   "source": [
    "So we've trained our random forrest. <br />\n",
    "First thing we'll do is check the Receiver Operating Characteristic (ROC) curve. A ROC curve is just a plot that shows how well your binary classifier operates as its discrimination threshold is varied. The Y-Axis is is the True Positive Rate and the X-Axis is the False Positive Rate. Ideally you want youre graph to look like a completely straight line going straight up the X-Axis, with a sharp 90 degree turn at the top and continuing in a straight line to the right at Y=1.0"
   ]
  },
  {
   "cell_type": "code",
   "execution_count": 31,
   "id": "f90f780f",
   "metadata": {},
   "outputs": [
    {
     "data": {
      "image/png": "[encoded data removed]",
      "text/plain": [
       "<Figure size 432x288 with 1 Axes>"
      ]
     },
     "metadata": {
      "needs_background": "light"
     },
     "output_type": "display_data"
    }
   ],
   "source": [
    "from sklearn.metrics import plot_roc_curve\n",
    "\n",
    "plot_roc_curve(rfc, test_x, test_y)\n",
    "plt.show()"
   ]
  },
  {
   "cell_type": "markdown",
   "id": "16d2aa38",
   "metadata": {},
   "source": [
    "This ROC curve is already pretty good, though lets preform some hyper parameter tunning and see if we can get it just a little bit better before fully evaluating our model"
   ]
  },
  {
   "cell_type": "code",
   "execution_count": 33,
   "id": "ad909cba",
   "metadata": {},
   "outputs": [
    {
     "data": {
      "text/plain": [
       "dict_keys(['memory', 'steps', 'verbose', 'columntransformer', 'randomforestclassifier', 'columntransformer__n_jobs', 'columntransformer__remainder', 'columntransformer__sparse_threshold', 'columntransformer__transformer_weights', 'columntransformer__transformers', 'columntransformer__verbose', 'columntransformer__pipeline', 'columntransformer__pipeline__memory', 'columntransformer__pipeline__steps', 'columntransformer__pipeline__verbose', 'columntransformer__pipeline__imputer', 'columntransformer__pipeline__encoder', 'columntransformer__pipeline__imputer__add_indicator', 'columntransformer__pipeline__imputer__copy', 'columntransformer__pipeline__imputer__fill_value', 'columntransformer__pipeline__imputer__missing_values', 'columntransformer__pipeline__imputer__strategy', 'columntransformer__pipeline__imputer__verbose', 'columntransformer__pipeline__encoder__categories', 'columntransformer__pipeline__encoder__drop', 'columntransformer__pipeline__encoder__dtype', 'columntransformer__pipeline__encoder__handle_unknown', 'columntransformer__pipeline__encoder__sparse', 'randomforestclassifier__bootstrap', 'randomforestclassifier__ccp_alpha', 'randomforestclassifier__class_weight', 'randomforestclassifier__criterion', 'randomforestclassifier__max_depth', 'randomforestclassifier__max_features', 'randomforestclassifier__max_leaf_nodes', 'randomforestclassifier__max_samples', 'randomforestclassifier__min_impurity_decrease', 'randomforestclassifier__min_impurity_split', 'randomforestclassifier__min_samples_leaf', 'randomforestclassifier__min_samples_split', 'randomforestclassifier__min_weight_fraction_leaf', 'randomforestclassifier__n_estimators', 'randomforestclassifier__n_jobs', 'randomforestclassifier__oob_score', 'randomforestclassifier__random_state', 'randomforestclassifier__verbose', 'randomforestclassifier__warm_start'])"
      ]
     },
     "execution_count": 33,
     "metadata": {},
     "output_type": "execute_result"
    }
   ],
   "source": [
    "#Getting the names of parameters we can set for tunning\n",
    "rfc.get_params().keys()"
   ]
  },
  {
   "cell_type": "code",
   "execution_count": 28,
   "id": "fb3189d5",
   "metadata": {
    "collapsed": true,
    "jupyter": {
     "outputs_hidden": true
    }
   },
   "outputs": [
    {
     "name": "stdout",
     "output_type": "stream",
     "text": [
      "Fitting 5 folds for each of 18 candidates, totalling 90 fits\n",
      "[CV] randomforestclassifier__criterion=gini, randomforestclassifier__max_features=auto, randomforestclassifier__n_estimators=5 \n"
     ]
    },
    {
     "name": "stderr",
     "output_type": "stream",
     "text": [
      "[Parallel(n_jobs=1)]: Using backend SequentialBackend with 1 concurrent workers.\n"
     ]
    },
    {
     "name": "stdout",
     "output_type": "stream",
     "text": [
      "[CV]  randomforestclassifier__criterion=gini, randomforestclassifier__max_features=auto, randomforestclassifier__n_estimators=5, total=   8.6s\n",
      "[CV] randomforestclassifier__criterion=gini, randomforestclassifier__max_features=auto, randomforestclassifier__n_estimators=5 \n"
     ]
    },
    {
     "name": "stderr",
     "output_type": "stream",
     "text": [
      "[Parallel(n_jobs=1)]: Done   1 out of   1 | elapsed:    8.6s remaining:    0.0s\n"
     ]
    },
    {
     "name": "stdout",
     "output_type": "stream",
     "text": [
      "[CV]  randomforestclassifier__criterion=gini, randomforestclassifier__max_features=auto, randomforestclassifier__n_estimators=5, total=   7.2s\n",
      "[CV] randomforestclassifier__criterion=gini, randomforestclassifier__max_features=auto, randomforestclassifier__n_estimators=5 \n",
      "[CV]  randomforestclassifier__criterion=gini, randomforestclassifier__max_features=auto, randomforestclassifier__n_estimators=5, total=   7.9s\n",
      "[CV] randomforestclassifier__criterion=gini, randomforestclassifier__max_features=auto, randomforestclassifier__n_estimators=5 \n",
      "[CV]  randomforestclassifier__criterion=gini, randomforestclassifier__max_features=auto, randomforestclassifier__n_estimators=5, total=   7.9s\n",
      "[CV] randomforestclassifier__criterion=gini, randomforestclassifier__max_features=auto, randomforestclassifier__n_estimators=5 \n",
      "[CV]  randomforestclassifier__criterion=gini, randomforestclassifier__max_features=auto, randomforestclassifier__n_estimators=5, total=   7.1s\n",
      "[CV] randomforestclassifier__criterion=gini, randomforestclassifier__max_features=auto, randomforestclassifier__n_estimators=10 \n",
      "[CV]  randomforestclassifier__criterion=gini, randomforestclassifier__max_features=auto, randomforestclassifier__n_estimators=10, total=  14.4s\n",
      "[CV] randomforestclassifier__criterion=gini, randomforestclassifier__max_features=auto, randomforestclassifier__n_estimators=10 \n",
      "[CV]  randomforestclassifier__criterion=gini, randomforestclassifier__max_features=auto, randomforestclassifier__n_estimators=10, total=  14.2s\n",
      "[CV] randomforestclassifier__criterion=gini, randomforestclassifier__max_features=auto, randomforestclassifier__n_estimators=10 \n",
      "[CV]  randomforestclassifier__criterion=gini, randomforestclassifier__max_features=auto, randomforestclassifier__n_estimators=10, total=  13.5s\n",
      "[CV] randomforestclassifier__criterion=gini, randomforestclassifier__max_features=auto, randomforestclassifier__n_estimators=10 \n",
      "[CV]  randomforestclassifier__criterion=gini, randomforestclassifier__max_features=auto, randomforestclassifier__n_estimators=10, total=  13.6s\n",
      "[CV] randomforestclassifier__criterion=gini, randomforestclassifier__max_features=auto, randomforestclassifier__n_estimators=10 \n",
      "[CV]  randomforestclassifier__criterion=gini, randomforestclassifier__max_features=auto, randomforestclassifier__n_estimators=10, total=  15.0s\n",
      "[CV] randomforestclassifier__criterion=gini, randomforestclassifier__max_features=auto, randomforestclassifier__n_estimators=25 \n",
      "[CV]  randomforestclassifier__criterion=gini, randomforestclassifier__max_features=auto, randomforestclassifier__n_estimators=25, total=  35.0s\n",
      "[CV] randomforestclassifier__criterion=gini, randomforestclassifier__max_features=auto, randomforestclassifier__n_estimators=25 \n",
      "[CV]  randomforestclassifier__criterion=gini, randomforestclassifier__max_features=auto, randomforestclassifier__n_estimators=25, total=  32.7s\n",
      "[CV] randomforestclassifier__criterion=gini, randomforestclassifier__max_features=auto, randomforestclassifier__n_estimators=25 \n",
      "[CV]  randomforestclassifier__criterion=gini, randomforestclassifier__max_features=auto, randomforestclassifier__n_estimators=25, total=  33.3s\n",
      "[CV] randomforestclassifier__criterion=gini, randomforestclassifier__max_features=auto, randomforestclassifier__n_estimators=25 \n",
      "[CV]  randomforestclassifier__criterion=gini, randomforestclassifier__max_features=auto, randomforestclassifier__n_estimators=25, total=  33.4s\n",
      "[CV] randomforestclassifier__criterion=gini, randomforestclassifier__max_features=auto, randomforestclassifier__n_estimators=25 \n",
      "[CV]  randomforestclassifier__criterion=gini, randomforestclassifier__max_features=auto, randomforestclassifier__n_estimators=25, total=  33.4s\n",
      "[CV] randomforestclassifier__criterion=gini, randomforestclassifier__max_features=sqrt, randomforestclassifier__n_estimators=5 \n",
      "[CV]  randomforestclassifier__criterion=gini, randomforestclassifier__max_features=sqrt, randomforestclassifier__n_estimators=5, total=   7.1s\n",
      "[CV] randomforestclassifier__criterion=gini, randomforestclassifier__max_features=sqrt, randomforestclassifier__n_estimators=5 \n",
      "[CV]  randomforestclassifier__criterion=gini, randomforestclassifier__max_features=sqrt, randomforestclassifier__n_estimators=5, total=   7.0s\n",
      "[CV] randomforestclassifier__criterion=gini, randomforestclassifier__max_features=sqrt, randomforestclassifier__n_estimators=5 \n",
      "[CV]  randomforestclassifier__criterion=gini, randomforestclassifier__max_features=sqrt, randomforestclassifier__n_estimators=5, total=   7.0s\n",
      "[CV] randomforestclassifier__criterion=gini, randomforestclassifier__max_features=sqrt, randomforestclassifier__n_estimators=5 \n",
      "[CV]  randomforestclassifier__criterion=gini, randomforestclassifier__max_features=sqrt, randomforestclassifier__n_estimators=5, total=   7.0s\n",
      "[CV] randomforestclassifier__criterion=gini, randomforestclassifier__max_features=sqrt, randomforestclassifier__n_estimators=5 \n",
      "[CV]  randomforestclassifier__criterion=gini, randomforestclassifier__max_features=sqrt, randomforestclassifier__n_estimators=5, total=   7.1s\n",
      "[CV] randomforestclassifier__criterion=gini, randomforestclassifier__max_features=sqrt, randomforestclassifier__n_estimators=10 \n",
      "[CV]  randomforestclassifier__criterion=gini, randomforestclassifier__max_features=sqrt, randomforestclassifier__n_estimators=10, total=  13.7s\n",
      "[CV] randomforestclassifier__criterion=gini, randomforestclassifier__max_features=sqrt, randomforestclassifier__n_estimators=10 \n",
      "[CV]  randomforestclassifier__criterion=gini, randomforestclassifier__max_features=sqrt, randomforestclassifier__n_estimators=10, total=  14.2s\n",
      "[CV] randomforestclassifier__criterion=gini, randomforestclassifier__max_features=sqrt, randomforestclassifier__n_estimators=10 \n",
      "[CV]  randomforestclassifier__criterion=gini, randomforestclassifier__max_features=sqrt, randomforestclassifier__n_estimators=10, total=  14.1s\n",
      "[CV] randomforestclassifier__criterion=gini, randomforestclassifier__max_features=sqrt, randomforestclassifier__n_estimators=10 \n",
      "[CV]  randomforestclassifier__criterion=gini, randomforestclassifier__max_features=sqrt, randomforestclassifier__n_estimators=10, total=  15.9s\n",
      "[CV] randomforestclassifier__criterion=gini, randomforestclassifier__max_features=sqrt, randomforestclassifier__n_estimators=10 \n",
      "[CV]  randomforestclassifier__criterion=gini, randomforestclassifier__max_features=sqrt, randomforestclassifier__n_estimators=10, total=  14.8s\n",
      "[CV] randomforestclassifier__criterion=gini, randomforestclassifier__max_features=sqrt, randomforestclassifier__n_estimators=25 \n",
      "[CV]  randomforestclassifier__criterion=gini, randomforestclassifier__max_features=sqrt, randomforestclassifier__n_estimators=25, total=  34.6s\n",
      "[CV] randomforestclassifier__criterion=gini, randomforestclassifier__max_features=sqrt, randomforestclassifier__n_estimators=25 \n",
      "[CV]  randomforestclassifier__criterion=gini, randomforestclassifier__max_features=sqrt, randomforestclassifier__n_estimators=25, total=  32.3s\n",
      "[CV] randomforestclassifier__criterion=gini, randomforestclassifier__max_features=sqrt, randomforestclassifier__n_estimators=25 \n",
      "[CV]  randomforestclassifier__criterion=gini, randomforestclassifier__max_features=sqrt, randomforestclassifier__n_estimators=25, total=  34.0s\n",
      "[CV] randomforestclassifier__criterion=gini, randomforestclassifier__max_features=sqrt, randomforestclassifier__n_estimators=25 \n",
      "[CV]  randomforestclassifier__criterion=gini, randomforestclassifier__max_features=sqrt, randomforestclassifier__n_estimators=25, total=  36.8s\n",
      "[CV] randomforestclassifier__criterion=gini, randomforestclassifier__max_features=sqrt, randomforestclassifier__n_estimators=25 \n",
      "[CV]  randomforestclassifier__criterion=gini, randomforestclassifier__max_features=sqrt, randomforestclassifier__n_estimators=25, total=  33.7s\n",
      "[CV] randomforestclassifier__criterion=gini, randomforestclassifier__max_features=log2, randomforestclassifier__n_estimators=5 \n",
      "[CV]  randomforestclassifier__criterion=gini, randomforestclassifier__max_features=log2, randomforestclassifier__n_estimators=5, total=   7.1s\n",
      "[CV] randomforestclassifier__criterion=gini, randomforestclassifier__max_features=log2, randomforestclassifier__n_estimators=5 \n",
      "[CV]  randomforestclassifier__criterion=gini, randomforestclassifier__max_features=log2, randomforestclassifier__n_estimators=5, total=   6.3s\n",
      "[CV] randomforestclassifier__criterion=gini, randomforestclassifier__max_features=log2, randomforestclassifier__n_estimators=5 \n",
      "[CV]  randomforestclassifier__criterion=gini, randomforestclassifier__max_features=log2, randomforestclassifier__n_estimators=5, total=   6.6s\n",
      "[CV] randomforestclassifier__criterion=gini, randomforestclassifier__max_features=log2, randomforestclassifier__n_estimators=5 \n",
      "[CV]  randomforestclassifier__criterion=gini, randomforestclassifier__max_features=log2, randomforestclassifier__n_estimators=5, total=   6.4s\n",
      "[CV] randomforestclassifier__criterion=gini, randomforestclassifier__max_features=log2, randomforestclassifier__n_estimators=5 \n",
      "[CV]  randomforestclassifier__criterion=gini, randomforestclassifier__max_features=log2, randomforestclassifier__n_estimators=5, total=   7.1s\n",
      "[CV] randomforestclassifier__criterion=gini, randomforestclassifier__max_features=log2, randomforestclassifier__n_estimators=10 \n",
      "[CV]  randomforestclassifier__criterion=gini, randomforestclassifier__max_features=log2, randomforestclassifier__n_estimators=10, total=  11.9s\n",
      "[CV] randomforestclassifier__criterion=gini, randomforestclassifier__max_features=log2, randomforestclassifier__n_estimators=10 \n",
      "[CV]  randomforestclassifier__criterion=gini, randomforestclassifier__max_features=log2, randomforestclassifier__n_estimators=10, total=  11.9s\n",
      "[CV] randomforestclassifier__criterion=gini, randomforestclassifier__max_features=log2, randomforestclassifier__n_estimators=10 \n",
      "[CV]  randomforestclassifier__criterion=gini, randomforestclassifier__max_features=log2, randomforestclassifier__n_estimators=10, total=  11.9s\n",
      "[CV] randomforestclassifier__criterion=gini, randomforestclassifier__max_features=log2, randomforestclassifier__n_estimators=10 \n",
      "[CV]  randomforestclassifier__criterion=gini, randomforestclassifier__max_features=log2, randomforestclassifier__n_estimators=10, total=  12.8s\n",
      "[CV] randomforestclassifier__criterion=gini, randomforestclassifier__max_features=log2, randomforestclassifier__n_estimators=10 \n",
      "[CV]  randomforestclassifier__criterion=gini, randomforestclassifier__max_features=log2, randomforestclassifier__n_estimators=10, total=  12.1s\n",
      "[CV] randomforestclassifier__criterion=gini, randomforestclassifier__max_features=log2, randomforestclassifier__n_estimators=25 \n",
      "[CV]  randomforestclassifier__criterion=gini, randomforestclassifier__max_features=log2, randomforestclassifier__n_estimators=25, total=  29.6s\n",
      "[CV] randomforestclassifier__criterion=gini, randomforestclassifier__max_features=log2, randomforestclassifier__n_estimators=25 \n",
      "[CV]  randomforestclassifier__criterion=gini, randomforestclassifier__max_features=log2, randomforestclassifier__n_estimators=25, total=  31.3s\n",
      "[CV] randomforestclassifier__criterion=gini, randomforestclassifier__max_features=log2, randomforestclassifier__n_estimators=25 \n",
      "[CV]  randomforestclassifier__criterion=gini, randomforestclassifier__max_features=log2, randomforestclassifier__n_estimators=25, total=  30.2s\n",
      "[CV] randomforestclassifier__criterion=gini, randomforestclassifier__max_features=log2, randomforestclassifier__n_estimators=25 \n",
      "[CV]  randomforestclassifier__criterion=gini, randomforestclassifier__max_features=log2, randomforestclassifier__n_estimators=25, total=  28.8s\n",
      "[CV] randomforestclassifier__criterion=gini, randomforestclassifier__max_features=log2, randomforestclassifier__n_estimators=25 \n",
      "[CV]  randomforestclassifier__criterion=gini, randomforestclassifier__max_features=log2, randomforestclassifier__n_estimators=25, total=  28.9s\n",
      "[CV] randomforestclassifier__criterion=entropy, randomforestclassifier__max_features=auto, randomforestclassifier__n_estimators=5 \n",
      "[CV]  randomforestclassifier__criterion=entropy, randomforestclassifier__max_features=auto, randomforestclassifier__n_estimators=5, total=   7.1s\n",
      "[CV] randomforestclassifier__criterion=entropy, randomforestclassifier__max_features=auto, randomforestclassifier__n_estimators=5 \n",
      "[CV]  randomforestclassifier__criterion=entropy, randomforestclassifier__max_features=auto, randomforestclassifier__n_estimators=5, total=   7.1s\n",
      "[CV] randomforestclassifier__criterion=entropy, randomforestclassifier__max_features=auto, randomforestclassifier__n_estimators=5 \n",
      "[CV]  randomforestclassifier__criterion=entropy, randomforestclassifier__max_features=auto, randomforestclassifier__n_estimators=5, total=   8.8s\n",
      "[CV] randomforestclassifier__criterion=entropy, randomforestclassifier__max_features=auto, randomforestclassifier__n_estimators=5 \n",
      "[CV]  randomforestclassifier__criterion=entropy, randomforestclassifier__max_features=auto, randomforestclassifier__n_estimators=5, total=   7.1s\n",
      "[CV] randomforestclassifier__criterion=entropy, randomforestclassifier__max_features=auto, randomforestclassifier__n_estimators=5 \n",
      "[CV]  randomforestclassifier__criterion=entropy, randomforestclassifier__max_features=auto, randomforestclassifier__n_estimators=5, total=   7.1s\n",
      "[CV] randomforestclassifier__criterion=entropy, randomforestclassifier__max_features=auto, randomforestclassifier__n_estimators=10 \n",
      "[CV]  randomforestclassifier__criterion=entropy, randomforestclassifier__max_features=auto, randomforestclassifier__n_estimators=10, total=  13.6s\n",
      "[CV] randomforestclassifier__criterion=entropy, randomforestclassifier__max_features=auto, randomforestclassifier__n_estimators=10 \n",
      "[CV]  randomforestclassifier__criterion=entropy, randomforestclassifier__max_features=auto, randomforestclassifier__n_estimators=10, total=  15.0s\n",
      "[CV] randomforestclassifier__criterion=entropy, randomforestclassifier__max_features=auto, randomforestclassifier__n_estimators=10 \n",
      "[CV]  randomforestclassifier__criterion=entropy, randomforestclassifier__max_features=auto, randomforestclassifier__n_estimators=10, total=  13.7s\n",
      "[CV] randomforestclassifier__criterion=entropy, randomforestclassifier__max_features=auto, randomforestclassifier__n_estimators=10 \n",
      "[CV]  randomforestclassifier__criterion=entropy, randomforestclassifier__max_features=auto, randomforestclassifier__n_estimators=10, total=  13.6s\n",
      "[CV] randomforestclassifier__criterion=entropy, randomforestclassifier__max_features=auto, randomforestclassifier__n_estimators=10 \n",
      "[CV]  randomforestclassifier__criterion=entropy, randomforestclassifier__max_features=auto, randomforestclassifier__n_estimators=10, total=  13.5s\n",
      "[CV] randomforestclassifier__criterion=entropy, randomforestclassifier__max_features=auto, randomforestclassifier__n_estimators=25 \n",
      "[CV]  randomforestclassifier__criterion=entropy, randomforestclassifier__max_features=auto, randomforestclassifier__n_estimators=25, total=  33.5s\n",
      "[CV] randomforestclassifier__criterion=entropy, randomforestclassifier__max_features=auto, randomforestclassifier__n_estimators=25 \n",
      "[CV]  randomforestclassifier__criterion=entropy, randomforestclassifier__max_features=auto, randomforestclassifier__n_estimators=25, total=  33.2s\n",
      "[CV] randomforestclassifier__criterion=entropy, randomforestclassifier__max_features=auto, randomforestclassifier__n_estimators=25 \n",
      "[CV]  randomforestclassifier__criterion=entropy, randomforestclassifier__max_features=auto, randomforestclassifier__n_estimators=25, total=  34.1s\n",
      "[CV] randomforestclassifier__criterion=entropy, randomforestclassifier__max_features=auto, randomforestclassifier__n_estimators=25 \n",
      "[CV]  randomforestclassifier__criterion=entropy, randomforestclassifier__max_features=auto, randomforestclassifier__n_estimators=25, total=  32.9s\n",
      "[CV] randomforestclassifier__criterion=entropy, randomforestclassifier__max_features=auto, randomforestclassifier__n_estimators=25 \n",
      "[CV]  randomforestclassifier__criterion=entropy, randomforestclassifier__max_features=auto, randomforestclassifier__n_estimators=25, total=  33.3s\n",
      "[CV] randomforestclassifier__criterion=entropy, randomforestclassifier__max_features=sqrt, randomforestclassifier__n_estimators=5 \n",
      "[CV]  randomforestclassifier__criterion=entropy, randomforestclassifier__max_features=sqrt, randomforestclassifier__n_estimators=5, total=   7.1s\n",
      "[CV] randomforestclassifier__criterion=entropy, randomforestclassifier__max_features=sqrt, randomforestclassifier__n_estimators=5 \n",
      "[CV]  randomforestclassifier__criterion=entropy, randomforestclassifier__max_features=sqrt, randomforestclassifier__n_estimators=5, total=   7.1s\n",
      "[CV] randomforestclassifier__criterion=entropy, randomforestclassifier__max_features=sqrt, randomforestclassifier__n_estimators=5 \n",
      "[CV]  randomforestclassifier__criterion=entropy, randomforestclassifier__max_features=sqrt, randomforestclassifier__n_estimators=5, total=   7.3s\n",
      "[CV] randomforestclassifier__criterion=entropy, randomforestclassifier__max_features=sqrt, randomforestclassifier__n_estimators=5 \n",
      "[CV]  randomforestclassifier__criterion=entropy, randomforestclassifier__max_features=sqrt, randomforestclassifier__n_estimators=5, total=   7.9s\n",
      "[CV] randomforestclassifier__criterion=entropy, randomforestclassifier__max_features=sqrt, randomforestclassifier__n_estimators=5 \n",
      "[CV]  randomforestclassifier__criterion=entropy, randomforestclassifier__max_features=sqrt, randomforestclassifier__n_estimators=5, total=   7.3s\n",
      "[CV] randomforestclassifier__criterion=entropy, randomforestclassifier__max_features=sqrt, randomforestclassifier__n_estimators=10 \n",
      "[CV]  randomforestclassifier__criterion=entropy, randomforestclassifier__max_features=sqrt, randomforestclassifier__n_estimators=10, total=  13.5s\n",
      "[CV] randomforestclassifier__criterion=entropy, randomforestclassifier__max_features=sqrt, randomforestclassifier__n_estimators=10 \n",
      "[CV]  randomforestclassifier__criterion=entropy, randomforestclassifier__max_features=sqrt, randomforestclassifier__n_estimators=10, total=  13.3s\n",
      "[CV] randomforestclassifier__criterion=entropy, randomforestclassifier__max_features=sqrt, randomforestclassifier__n_estimators=10 \n",
      "[CV]  randomforestclassifier__criterion=entropy, randomforestclassifier__max_features=sqrt, randomforestclassifier__n_estimators=10, total=  14.4s\n",
      "[CV] randomforestclassifier__criterion=entropy, randomforestclassifier__max_features=sqrt, randomforestclassifier__n_estimators=10 \n",
      "[CV]  randomforestclassifier__criterion=entropy, randomforestclassifier__max_features=sqrt, randomforestclassifier__n_estimators=10, total=  14.3s\n",
      "[CV] randomforestclassifier__criterion=entropy, randomforestclassifier__max_features=sqrt, randomforestclassifier__n_estimators=10 \n",
      "[CV]  randomforestclassifier__criterion=entropy, randomforestclassifier__max_features=sqrt, randomforestclassifier__n_estimators=10, total=  13.4s\n",
      "[CV] randomforestclassifier__criterion=entropy, randomforestclassifier__max_features=sqrt, randomforestclassifier__n_estimators=25 \n",
      "[CV]  randomforestclassifier__criterion=entropy, randomforestclassifier__max_features=sqrt, randomforestclassifier__n_estimators=25, total=  34.1s\n",
      "[CV] randomforestclassifier__criterion=entropy, randomforestclassifier__max_features=sqrt, randomforestclassifier__n_estimators=25 \n",
      "[CV]  randomforestclassifier__criterion=entropy, randomforestclassifier__max_features=sqrt, randomforestclassifier__n_estimators=25, total=  35.9s\n",
      "[CV] randomforestclassifier__criterion=entropy, randomforestclassifier__max_features=sqrt, randomforestclassifier__n_estimators=25 \n",
      "[CV]  randomforestclassifier__criterion=entropy, randomforestclassifier__max_features=sqrt, randomforestclassifier__n_estimators=25, total=  35.3s\n",
      "[CV] randomforestclassifier__criterion=entropy, randomforestclassifier__max_features=sqrt, randomforestclassifier__n_estimators=25 \n",
      "[CV]  randomforestclassifier__criterion=entropy, randomforestclassifier__max_features=sqrt, randomforestclassifier__n_estimators=25, total=  32.7s\n",
      "[CV] randomforestclassifier__criterion=entropy, randomforestclassifier__max_features=sqrt, randomforestclassifier__n_estimators=25 \n",
      "[CV]  randomforestclassifier__criterion=entropy, randomforestclassifier__max_features=sqrt, randomforestclassifier__n_estimators=25, total=  32.3s\n",
      "[CV] randomforestclassifier__criterion=entropy, randomforestclassifier__max_features=log2, randomforestclassifier__n_estimators=5 \n",
      "[CV]  randomforestclassifier__criterion=entropy, randomforestclassifier__max_features=log2, randomforestclassifier__n_estimators=5, total=   6.2s\n",
      "[CV] randomforestclassifier__criterion=entropy, randomforestclassifier__max_features=log2, randomforestclassifier__n_estimators=5 \n",
      "[CV]  randomforestclassifier__criterion=entropy, randomforestclassifier__max_features=log2, randomforestclassifier__n_estimators=5, total=   6.4s\n",
      "[CV] randomforestclassifier__criterion=entropy, randomforestclassifier__max_features=log2, randomforestclassifier__n_estimators=5 \n",
      "[CV]  randomforestclassifier__criterion=entropy, randomforestclassifier__max_features=log2, randomforestclassifier__n_estimators=5, total=   7.2s\n",
      "[CV] randomforestclassifier__criterion=entropy, randomforestclassifier__max_features=log2, randomforestclassifier__n_estimators=5 \n",
      "[CV]  randomforestclassifier__criterion=entropy, randomforestclassifier__max_features=log2, randomforestclassifier__n_estimators=5, total=   6.3s\n",
      "[CV] randomforestclassifier__criterion=entropy, randomforestclassifier__max_features=log2, randomforestclassifier__n_estimators=5 \n",
      "[CV]  randomforestclassifier__criterion=entropy, randomforestclassifier__max_features=log2, randomforestclassifier__n_estimators=5, total=   6.2s\n",
      "[CV] randomforestclassifier__criterion=entropy, randomforestclassifier__max_features=log2, randomforestclassifier__n_estimators=10 \n",
      "[CV]  randomforestclassifier__criterion=entropy, randomforestclassifier__max_features=log2, randomforestclassifier__n_estimators=10, total=  11.7s\n",
      "[CV] randomforestclassifier__criterion=entropy, randomforestclassifier__max_features=log2, randomforestclassifier__n_estimators=10 \n",
      "[CV]  randomforestclassifier__criterion=entropy, randomforestclassifier__max_features=log2, randomforestclassifier__n_estimators=10, total=  12.1s\n",
      "[CV] randomforestclassifier__criterion=entropy, randomforestclassifier__max_features=log2, randomforestclassifier__n_estimators=10 \n",
      "[CV]  randomforestclassifier__criterion=entropy, randomforestclassifier__max_features=log2, randomforestclassifier__n_estimators=10, total=  12.0s\n",
      "[CV] randomforestclassifier__criterion=entropy, randomforestclassifier__max_features=log2, randomforestclassifier__n_estimators=10 \n",
      "[CV]  randomforestclassifier__criterion=entropy, randomforestclassifier__max_features=log2, randomforestclassifier__n_estimators=10, total=  11.9s\n",
      "[CV] randomforestclassifier__criterion=entropy, randomforestclassifier__max_features=log2, randomforestclassifier__n_estimators=10 \n",
      "[CV]  randomforestclassifier__criterion=entropy, randomforestclassifier__max_features=log2, randomforestclassifier__n_estimators=10, total=  11.9s\n",
      "[CV] randomforestclassifier__criterion=entropy, randomforestclassifier__max_features=log2, randomforestclassifier__n_estimators=25 \n",
      "[CV]  randomforestclassifier__criterion=entropy, randomforestclassifier__max_features=log2, randomforestclassifier__n_estimators=25, total=  28.5s\n",
      "[CV] randomforestclassifier__criterion=entropy, randomforestclassifier__max_features=log2, randomforestclassifier__n_estimators=25 \n",
      "[CV]  randomforestclassifier__criterion=entropy, randomforestclassifier__max_features=log2, randomforestclassifier__n_estimators=25, total=  28.6s\n",
      "[CV] randomforestclassifier__criterion=entropy, randomforestclassifier__max_features=log2, randomforestclassifier__n_estimators=25 \n",
      "[CV]  randomforestclassifier__criterion=entropy, randomforestclassifier__max_features=log2, randomforestclassifier__n_estimators=25, total=  30.1s\n",
      "[CV] randomforestclassifier__criterion=entropy, randomforestclassifier__max_features=log2, randomforestclassifier__n_estimators=25 \n",
      "[CV]  randomforestclassifier__criterion=entropy, randomforestclassifier__max_features=log2, randomforestclassifier__n_estimators=25, total=  29.4s\n",
      "[CV] randomforestclassifier__criterion=entropy, randomforestclassifier__max_features=log2, randomforestclassifier__n_estimators=25 \n",
      "[CV]  randomforestclassifier__criterion=entropy, randomforestclassifier__max_features=log2, randomforestclassifier__n_estimators=25, total=  28.7s\n"
     ]
    },
    {
     "name": "stderr",
     "output_type": "stream",
     "text": [
      "[Parallel(n_jobs=1)]: Done  90 out of  90 | elapsed: 26.4min finished\n"
     ]
    }
   ],
   "source": [
    "from sklearn.model_selection import GridSearchCV\n",
    "\n",
    "#Set the parameters we want to tune and the values we wants to test\n",
    "param_grid={\n",
    "    'randomforestclassifier__n_estimators': [5,10,25],\n",
    "    'randomforestclassifier__max_features': ['auto', 'sqrt', 'log2'],\n",
    "    'randomforestclassifier__criterion': ['gini', 'entropy']\n",
    "}\n",
    "rfc = pickle.load(open(\"randomforest.sav\", 'rb')) #Load model so we can restart kernel w/ out having to retrain\n",
    "clf_hyper = GridSearchCV(rfc, param_grid, cv=5, scoring='f1', verbose=2)\n",
    "\n",
    "#Start searching for the best combo\n",
    "clf_hyper.fit(train_x, train_y)\n",
    "pickle.dump(clf_hyper, open(\"clf_hyper.sav\",\"wb\")) #Save"
   ]
  },
  {
   "cell_type": "markdown",
   "id": "3e45682a",
   "metadata": {},
   "source": [
    "Now that we've found the best parameters for our random forest lets take a look at what they are"
   ]
  },
  {
   "cell_type": "code",
   "execution_count": 29,
   "id": "5f94e593",
   "metadata": {},
   "outputs": [
    {
     "data": {
      "text/plain": [
       "{'randomforestclassifier__criterion': 'entropy',\n",
       " 'randomforestclassifier__max_features': 'log2',\n",
       " 'randomforestclassifier__n_estimators': 25}"
      ]
     },
     "execution_count": 29,
     "metadata": {},
     "output_type": "execute_result"
    }
   ],
   "source": [
    "clf_hyper.best_params_"
   ]
  },
  {
   "cell_type": "code",
   "execution_count": 30,
   "id": "19932bba",
   "metadata": {},
   "outputs": [
    {
     "data": {
      "text/plain": [
       "Pipeline(steps=[('columntransformer',\n",
       "                 ColumnTransformer(remainder='passthrough',\n",
       "                                   transformers=[('pipeline',\n",
       "                                                  Pipeline(steps=[('imputer',\n",
       "                                                                   SimpleImputer(fill_value='missing',\n",
       "                                                                                 strategy='constant')),\n",
       "                                                                  ('encoder',\n",
       "                                                                   OneHotEncoder(handle_unknown='ignore'))]),\n",
       "                                                  ['race', 'gender', 'age',\n",
       "                                                   'diag_1', 'diag_2', 'diag_3',\n",
       "                                                   'max_glu_serum', 'A1Cresult',\n",
       "                                                   'metformin', 'repaglinide',\n",
       "                                                   'nat...\n",
       "                                                   'glyburide', 'tolbutamide',\n",
       "                                                   'pioglitazone',\n",
       "                                                   'rosiglitazone', 'acarbose',\n",
       "                                                   'miglitol', 'troglitazone',\n",
       "                                                   'tolazamide', 'examide',\n",
       "                                                   'citoglipton', 'insulin',\n",
       "                                                   'glyburide-metformin',\n",
       "                                                   'glipizide-metformin',\n",
       "                                                   'glimepiride-pioglitazone',\n",
       "                                                   'metformin-rosiglitazone', ...])])),\n",
       "                ('randomforestclassifier',\n",
       "                 RandomForestClassifier(criterion='entropy',\n",
       "                                        max_features='log2', n_estimators=25,\n",
       "                                        random_state=43))])"
      ]
     },
     "execution_count": 30,
     "metadata": {},
     "output_type": "execute_result"
    }
   ],
   "source": [
    "clf_hyper.best_estimator_"
   ]
  },
  {
   "cell_type": "code",
   "execution_count": 25,
   "id": "26a709a2",
   "metadata": {},
   "outputs": [],
   "source": [
    "#Ok, let's create a random forest with these parameters and see if we can do any better\n",
    "rf_classifier_hyper = RandomForestClassifier(n_estimators=25, random_state=43, criterion='entropy',max_features='log2')\n",
    "rfc_hyper = make_pipeline(col_trans, rf_classifier_hyper)"
   ]
  },
  {
   "cell_type": "code",
   "execution_count": 26,
   "id": "f673deee",
   "metadata": {},
   "outputs": [
    {
     "data": {
      "text/plain": [
       "Pipeline(steps=[('columntransformer',\n",
       "                 ColumnTransformer(remainder='passthrough',\n",
       "                                   transformers=[('pipeline',\n",
       "                                                  Pipeline(steps=[('imputer',\n",
       "                                                                   SimpleImputer(fill_value='missing',\n",
       "                                                                                 strategy='constant')),\n",
       "                                                                  ('encoder',\n",
       "                                                                   OneHotEncoder(handle_unknown='ignore'))]),\n",
       "                                                  ['race', 'gender', 'age',\n",
       "                                                   'diag_1', 'diag_2', 'diag_3',\n",
       "                                                   'max_glu_serum', 'A1Cresult',\n",
       "                                                   'metformin', 'repaglinide',\n",
       "                                                   'nat...\n",
       "                                                   'glyburide', 'tolbutamide',\n",
       "                                                   'pioglitazone',\n",
       "                                                   'rosiglitazone', 'acarbose',\n",
       "                                                   'miglitol', 'troglitazone',\n",
       "                                                   'tolazamide', 'examide',\n",
       "                                                   'citoglipton', 'insulin',\n",
       "                                                   'glyburide-metformin',\n",
       "                                                   'glipizide-metformin',\n",
       "                                                   'glimepiride-pioglitazone',\n",
       "                                                   'metformin-rosiglitazone', ...])])),\n",
       "                ('randomforestclassifier',\n",
       "                 RandomForestClassifier(criterion='entropy',\n",
       "                                        max_features='log2', n_estimators=25,\n",
       "                                        random_state=43))])"
      ]
     },
     "execution_count": 26,
     "metadata": {},
     "output_type": "execute_result"
    }
   ],
   "source": [
    "rfc_hyper.fit(train_x, train_y)"
   ]
  },
  {
   "cell_type": "code",
   "execution_count": 46,
   "id": "e7732af1",
   "metadata": {},
   "outputs": [],
   "source": [
    "#Lets quickly save our model just in case\n",
    "pickle.dump(rfc_hyper, open(\"randomforest_hyper.sav\",\"wb\"))"
   ]
  },
  {
   "cell_type": "code",
   "execution_count": 28,
   "id": "f4a6047b",
   "metadata": {},
   "outputs": [
    {
     "data": {
      "image/png": "[encoded data removed]",
      "text/plain": [
       "<Figure size 432x288 with 1 Axes>"
      ]
     },
     "metadata": {
      "needs_background": "light"
     },
     "output_type": "display_data"
    }
   ],
   "source": [
    "plot_roc_curve(rfc_hyper, test_x, test_y)\n",
    "plt.show()"
   ]
  },
  {
   "cell_type": "code",
   "execution_count": 46,
   "id": "c6c617f4",
   "metadata": {},
   "outputs": [],
   "source": [
    "test_predict_Y = rfc.predict(test_x)"
   ]
  },
  {
   "cell_type": "code",
   "execution_count": 47,
   "id": "50ecdcba",
   "metadata": {},
   "outputs": [
    {
     "name": "stdout",
     "output_type": "stream",
     "text": [
      "[[17859    39]\n",
      " [  536  8689]]\n",
      "False Positive Rates:  [ 39 536]\n",
      "False Negative Rates:  [536  39]\n",
      "True Positive Rates:  [17700  8718]\n",
      "True Negative Rates:  [17859  8689]\n"
     ]
    }
   ],
   "source": [
    "#Calculate confusion matrix items\n",
    "#Standard random forest\n",
    "from sklearn.metrics import confusion_matrix\n",
    "\n",
    "cm = confusion_matrix(test_y, test_predict_Y, labels=[0, 1])\n",
    "\n",
    "FN = cm.sum(axis=0) - np.diag(cm)  \n",
    "FP = cm.sum(axis=1) - np.diag(cm)\n",
    "TN = np.diag(cm)\n",
    "TP = cm.sum() - (FP + FN + TP)\n",
    "\n",
    "print(cm)\n",
    "print(\"False Positive Rates: \",FP)\n",
    "print(\"False Negative Rates: \",FN)\n",
    "print(\"True Positive Rates: \", TP)\n",
    "print(\"True Negative Rates: \",TN)"
   ]
  },
  {
   "cell_type": "code",
   "execution_count": 48,
   "id": "fc5ccf78",
   "metadata": {},
   "outputs": [],
   "source": [
    "test_predict_Y = rfc_hyper.predict(test_x)"
   ]
  },
  {
   "cell_type": "code",
   "execution_count": 49,
   "id": "65b19d34",
   "metadata": {},
   "outputs": [
    {
     "name": "stdout",
     "output_type": "stream",
     "text": [
      "[[17830    68]\n",
      " [  377  8848]]\n",
      "False Positive Rates:  [ 68 377]\n",
      "False Negative Rates:  [377  68]\n",
      "True Positive Rates:  [ 8978 17960]\n",
      "True Negative Rates:  [17830  8848]\n"
     ]
    }
   ],
   "source": [
    "#Calculate confusion matrix items\n",
    "#Random forest with hyper-parameter tunning\n",
    "cm = confusion_matrix(test_y, test_predict_Y, labels=[0, 1])\n",
    "\n",
    "FN = cm.sum(axis=0) - np.diag(cm)  \n",
    "FP = cm.sum(axis=1) - np.diag(cm)\n",
    "TN = np.diag(cm)\n",
    "TP = cm.sum() - (FP + FN + TP)\n",
    "\n",
    "print(cm)\n",
    "print(\"False Positive Rates: \",FP)\n",
    "print(\"False Negative Rates: \",FN)\n",
    "print(\"True Positive Rates: \", TP)\n",
    "print(\"True Negative Rates: \",TN)"
   ]
  },
  {
   "cell_type": "markdown",
   "id": "97f05523",
   "metadata": {},
   "source": [
    "As a note the confusion matrix is displayed as: <br />\n",
    "TN | FP <br />\n",
    "FN | TP <br />\n",
    "<br />\n",
    "Just eyeballing the ROC curves, the random forest w/ hyper-parameter (HP) tunning appears better. Though, looking at the confusion matrix we can see the random forest w/ hyper-parameter (HP) tunning has a slightly higher (0.3% difference) false positive rate. False positive in this context meaning a person was predicted to be readmitted within 30 days and was not. Though our tunned model has a better (lower) false negative rate by almost a whole percent. The means the model is less likely to predict someone won't readmitted when they actually will be. <br />\n",
    "<br />\n",
    "In a sense, our second model is more biased towards predicting people will be readmitted than our untunned random forest. This is an ok trade off for me, but let's run some more metrics just to fully evaluate our models. "
   ]
  },
  {
   "cell_type": "code",
   "execution_count": 50,
   "id": "adb0ee19",
   "metadata": {},
   "outputs": [
    {
     "name": "stdout",
     "output_type": "stream",
     "text": [
      "Precision random forest:  0.995531622364803\n",
      "Precision random forest w/ HP Tunning:  0.9923732615522656\n"
     ]
    }
   ],
   "source": [
    "#Precision\n",
    "from sklearn.metrics import precision_score\n",
    "\n",
    "test_predict_Y = rfc.predict(test_x)\n",
    "print(\"Precision random forest: \",precision_score(test_y, test_predict_Y, average='binary'))\n",
    "\n",
    "test_predict_Y = rfc_hyper.predict(test_x)\n",
    "print(\"Precision random forest w/ HP Tunning: \",precision_score(test_y, test_predict_Y, average='binary'))"
   ]
  },
  {
   "cell_type": "markdown",
   "id": "eb5b6730",
   "metadata": {},
   "source": [
    "Precision is the number of true positives over true positives+false positives. <br />\n",
    "It's the percentage of positive predictions that are actually positive. Again, we can see our tunned model is slightly more over-biased towards positive predictions."
   ]
  },
  {
   "cell_type": "code",
   "execution_count": 51,
   "id": "42c3111a",
   "metadata": {},
   "outputs": [
    {
     "name": "stdout",
     "output_type": "stream",
     "text": [
      "Recall random forest:  0.9418970189701897\n",
      "Recall random forest w/ HP Tunning:  0.9591327913279133\n"
     ]
    }
   ],
   "source": [
    "#Recall\n",
    "#TP/(TP+FN) \n",
    "#The percentage of positive predictions out of the total number of positive instances \n",
    "from sklearn.metrics import recall_score\n",
    "\n",
    "test_predict_Y = rfc.predict(test_x)\n",
    "print(\"Recall random forest: \",recall_score(test_y, test_predict_Y, average='binary'))\n",
    "\n",
    "test_predict_Y = rfc_hyper.predict(test_x)\n",
    "print(\"Recall random forest w/ HP Tunning: \",recall_score(test_y, test_predict_Y, average='binary'))"
   ]
  },
  {
   "cell_type": "markdown",
   "id": "4f22ec2b",
   "metadata": {},
   "source": [
    "While our tunned model may have slightly lower precision, it has much higher recall, meaning it catches more actually positive results."
   ]
  },
  {
   "cell_type": "code",
   "execution_count": 52,
   "id": "99a8c932",
   "metadata": {},
   "outputs": [
    {
     "name": "stdout",
     "output_type": "stream",
     "text": [
      "F1 random forest:  0.9679719266974879\n",
      "F1 random forest w/ HP Tunning:  0.975469929992834\n"
     ]
    }
   ],
   "source": [
    "#F1 Score\n",
    "#Harmonic mean of precision and recall\n",
    "from sklearn.metrics import f1_score\n",
    "\n",
    "test_predict_Y = rfc.predict(test_x)\n",
    "print(\"F1 random forest: \",f1_score(test_y, test_predict_Y, average='binary'))\n",
    "\n",
    "test_predict_Y = rfc_hyper.predict(test_x)\n",
    "print(\"F1 random forest w/ HP Tunning: \",f1_score(test_y, test_predict_Y, average='binary'))"
   ]
  },
  {
   "cell_type": "code",
   "execution_count": 53,
   "id": "2c37da57",
   "metadata": {},
   "outputs": [
    {
     "name": "stdout",
     "output_type": "stream",
     "text": [
      "R2 random forest:  0.9055428821133669\n",
      "R2 random forest w/ HP Tunning:  0.926898404418171\n"
     ]
    }
   ],
   "source": [
    "#R2 Score\n",
    "#The total variance explained by the model over the total variance\n",
    "#A high score means a high correlation which is what we want\n",
    "from sklearn.metrics import r2_score\n",
    "\n",
    "test_predict_Y = rfc.predict(test_x)\n",
    "print(\"R2 random forest: \",r2_score(test_y, test_predict_Y))\n",
    "\n",
    "test_predict_Y = rfc_hyper.predict(test_x)\n",
    "print(\"R2 random forest w/ HP Tunning: \",r2_score(test_y, test_predict_Y))"
   ]
  },
  {
   "cell_type": "markdown",
   "id": "ee846e70",
   "metadata": {},
   "source": [
    "Our tunned model is also better at explaining the variance which is good."
   ]
  },
  {
   "cell_type": "code",
   "execution_count": 54,
   "id": "da236974",
   "metadata": {},
   "outputs": [
    {
     "name": "stdout",
     "output_type": "stream",
     "text": [
      "Accuracy random forest:  0.9788002802049921\n",
      "Accuracy random forest w/ HP Tunning:  0.9835932603325591\n"
     ]
    }
   ],
   "source": [
    "#Accuracy score\n",
    "#Just how accurate the model is, pretty self explanetory \n",
    "from sklearn.metrics import accuracy_score\n",
    "\n",
    "test_predict_Y = rfc.predict(test_x)\n",
    "print(\"Accuracy random forest: \",accuracy_score(test_y, test_predict_Y))\n",
    "\n",
    "test_predict_Y = rfc_hyper.predict(test_x)\n",
    "print(\"Accuracy random forest w/ HP Tunning: \",accuracy_score(test_y, test_predict_Y))"
   ]
  },
  {
   "cell_type": "code",
   "execution_count": 55,
   "id": "22a505ae",
   "metadata": {},
   "outputs": [
    {
     "name": "stdout",
     "output_type": "stream",
     "text": [
      "MAE random forest:  0.021199719795007926\n",
      "MAE random forest w/ HP Tunning:  0.01640673966744092\n"
     ]
    }
   ],
   "source": [
    "#MAE Score\n",
    "#Mean absolute error\n",
    "from sklearn.metrics import mean_absolute_error\n",
    "\n",
    "test_predict_Y = rfc.predict(test_x)\n",
    "print(\"MAE random forest: \",mean_absolute_error(test_y, test_predict_Y))\n",
    "\n",
    "test_predict_Y = rfc_hyper.predict(test_x)\n",
    "print(\"MAE random forest w/ HP Tunning: \",mean_absolute_error(test_y, test_predict_Y))"
   ]
  },
  {
   "cell_type": "code",
   "execution_count": 57,
   "id": "c98e04cf",
   "metadata": {},
   "outputs": [
    {
     "name": "stdout",
     "output_type": "stream",
     "text": [
      "MSE random forest:  0.021199719795007926\n",
      "MSE random forest w/ HP Tunning:  0.01640673966744092\n"
     ]
    }
   ],
   "source": [
    "#Mean Squared Error (MSE)\n",
    "from sklearn.metrics import mean_squared_error\n",
    "\n",
    "test_predict_Y = rfc.predict(test_x)\n",
    "print(\"MSE random forest: \",mean_squared_error(test_y, test_predict_Y))\n",
    "\n",
    "test_predict_Y = rfc_hyper.predict(test_x)\n",
    "print(\"MSE random forest w/ HP Tunning: \",mean_squared_error(test_y, test_predict_Y))"
   ]
  },
  {
   "cell_type": "markdown",
   "id": "8937f868",
   "metadata": {},
   "source": [
    "Lets try out logistic regression to see if it's any better"
   ]
  },
  {
   "cell_type": "code",
   "execution_count": 28,
   "id": "fa79eebe",
   "metadata": {},
   "outputs": [],
   "source": [
    "from sklearn.linear_model import LogisticRegression\n",
    "\n",
    "logReg = LogisticRegression(penalty='l2',max_iter=5000)\n",
    "logReg_pipe = make_pipeline(col_trans, logReg)"
   ]
  },
  {
   "cell_type": "code",
   "execution_count": 29,
   "id": "433c39fb",
   "metadata": {},
   "outputs": [
    {
     "data": {
      "text/plain": [
       "Pipeline(steps=[('columntransformer',\n",
       "                 ColumnTransformer(remainder='passthrough',\n",
       "                                   transformers=[('pipeline',\n",
       "                                                  Pipeline(steps=[('imputer',\n",
       "                                                                   SimpleImputer(fill_value='missing',\n",
       "                                                                                 strategy='constant')),\n",
       "                                                                  ('encoder',\n",
       "                                                                   OneHotEncoder(handle_unknown='ignore'))]),\n",
       "                                                  ['race', 'gender', 'age',\n",
       "                                                   'diag_1', 'diag_2', 'diag_3',\n",
       "                                                   'max_glu_serum', 'A1Cresult',\n",
       "                                                   'metformin', 'repaglinide',\n",
       "                                                   'nat...\n",
       "                                                   'chlorpropamide',\n",
       "                                                   'glimepiride',\n",
       "                                                   'acetohexamide', 'glipizide',\n",
       "                                                   'glyburide', 'tolbutamide',\n",
       "                                                   'pioglitazone',\n",
       "                                                   'rosiglitazone', 'acarbose',\n",
       "                                                   'miglitol', 'troglitazone',\n",
       "                                                   'tolazamide', 'examide',\n",
       "                                                   'citoglipton', 'insulin',\n",
       "                                                   'glyburide-metformin',\n",
       "                                                   'glipizide-metformin',\n",
       "                                                   'glimepiride-pioglitazone',\n",
       "                                                   'metformin-rosiglitazone', ...])])),\n",
       "                ('logisticregression', LogisticRegression(max_iter=5000))])"
      ]
     },
     "execution_count": 29,
     "metadata": {},
     "output_type": "execute_result"
    }
   ],
   "source": [
    "#Train our model\n",
    "logReg_pipe.fit(train_x,train_y)"
   ]
  },
  {
   "cell_type": "code",
   "execution_count": 33,
   "id": "2fd1dd74",
   "metadata": {},
   "outputs": [],
   "source": [
    "#Save model\n",
    "import pickle \n",
    "\n",
    "pickle.dump(logReg_pipe, open(\"logistic_regression.sav\",\"wb\"))"
   ]
  },
  {
   "cell_type": "markdown",
   "id": "8d8fcd6d",
   "metadata": {},
   "source": [
    "Sometimes depending on the start state and random list of training samples we'll get a warning telling us the model failed to converge with 'only' 5,000 iterations. Luckily, this time it doesn't appear to have happened. My initial guess is that this will be worse than the random forest. But let's take a look."
   ]
  },
  {
   "cell_type": "code",
   "execution_count": 30,
   "id": "7a7de72e",
   "metadata": {},
   "outputs": [
    {
     "data": {
      "image/png": "[encoded data removed]",
      "text/plain": [
       "<Figure size 432x288 with 1 Axes>"
      ]
     },
     "metadata": {
      "needs_background": "light"
     },
     "output_type": "display_data"
    }
   ],
   "source": [
    "plot_roc_curve(logReg_pipe, test_x, test_y)\n",
    "plt.show()"
   ]
  },
  {
   "cell_type": "code",
   "execution_count": 32,
   "id": "7142a310",
   "metadata": {},
   "outputs": [
    {
     "name": "stdout",
     "output_type": "stream",
     "text": [
      "[[16589  1420]\n",
      " [ 7085  2029]]\n",
      "False Positive Rates:  [7085 1420]\n",
      "False Negative Rates:  [1420 7085]\n",
      "True Positive Rates:  [16589  2029]\n",
      "True Negative Rates:  [ 2029 16589]\n"
     ]
    }
   ],
   "source": [
    "#Calculate confusion matrix items\n",
    "#Logistic Regression\n",
    "from sklearn.metrics import confusion_matrix\n",
    "\n",
    "test_predict_Y = logReg_pipe.predict(test_x)\n",
    "cm = confusion_matrix(test_y, test_predict_Y)\n",
    "\n",
    "FP = cm.sum(axis=0) - np.diag(cm)  \n",
    "FN = cm.sum(axis=1) - np.diag(cm)\n",
    "TP = np.diag(cm)\n",
    "TN = cm.sum() - (FP + FN + TP)\n",
    "\n",
    "print(cm)\n",
    "print(\"False Positive Rates: \",FP)\n",
    "print(\"False Negative Rates: \",FN)\n",
    "print(\"True Positive Rates: \", TP)\n",
    "print(\"True Negative Rates: \",TN)"
   ]
  },
  {
   "cell_type": "markdown",
   "id": "5b923ef7",
   "metadata": {},
   "source": [
    "Just from initial assessment, we can already tell the performance of this model is worse than the random forest. The TP and TN rates are lower by several thousand in both instances."
   ]
  },
  {
   "cell_type": "markdown",
   "id": "e675f189",
   "metadata": {},
   "source": [
    "For the purposes of this project I'm happy with this results. If this was a real project to develop a model to be actually used in the real world I would spend longer doing EDA and testing more models/parameters. Though, while I understand to some degree I'm supposed to treat it like it is, it isn't. This is closer to a proof of concept to display how I'd generally tackle this kind of problem more than a deep dive into this specific instance. "
   ]
  },
  {
   "cell_type": "code",
   "execution_count": null,
   "id": "4dc3a2c9",
   "metadata": {},
   "outputs": [],
   "source": []
  }
 ],
 "metadata": {
  "kernelspec": {
   "display_name": "Python 3 (ipykernel)",
   "language": "python",
   "name": "python3"
  },
  "language_info": {
   "codemirror_mode": {
    "name": "ipython",
    "version": 3
   },
   "file_extension": ".py",
   "mimetype": "text/x-python",
   "name": "python",
   "nbconvert_exporter": "python",
   "pygments_lexer": "ipython3",
   "version": "3.8.10"
  }
 },
 "nbformat": 4,
 "nbformat_minor": 5
}
